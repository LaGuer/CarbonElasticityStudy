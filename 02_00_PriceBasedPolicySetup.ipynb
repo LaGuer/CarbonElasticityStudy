{
 "cells": [
  {
   "cell_type": "markdown",
   "metadata": {},
   "source": [
    "# Price based policy setup"
   ]
  },
  {
   "cell_type": "markdown",
   "metadata": {},
   "source": [
    "## Setting price path"
   ]
  },
  {
   "cell_type": "markdown",
   "metadata": {},
   "source": [
    "### Define values"
   ]
  },
  {
   "cell_type": "markdown",
   "metadata": {},
   "source": [
    "Here we are interested in price-based policy. Note that each model has price-based policy examples applying single carbon tax profile to all region by default. However, different models has different tax profiles and possibly what kind of carbon (FOS vs. TOT) is accounted. To make a fair comparison, we need to set a consistent price path and make same carbon accounting."
   ]
  },
  {
   "cell_type": "code",
   "execution_count": 7,
   "metadata": {
    "collapsed": false
   },
   "outputs": [],
   "source": [
    "import pandas as pd\n",
    "import pandas.io.excel\n",
    "import numpy as np\n",
    "import matplotlib.pyplot as plt\n",
    "import datetime\n",
    "import pytz\n",
    "import os\n",
    "import patsy #for spline regression\n",
    "import scipy #for non-negative least square \n",
    "import scipy as sp \n",
    "from scipy import stats\n",
    "from scipy.optimize import nnls\n",
    "from numpy.linalg import inv #for matrix and statistics\n",
    "import scipy as sp\n",
    "import math\n",
    "import statsmodels.api as sm\n",
    "%matplotlib inline"
   ]
  },
  {
   "cell_type": "markdown",
   "metadata": {},
   "source": [
    "First, we set consistent carbon tax in unit 2005 dollars per ton CO2. We can set exponential carbon tax path by setting the first carbon tax equals to 10 $2005 per CO2 ton in 2020, and increases by factor 1.04 each year. Perturbation is used to find elasticity."
   ]
  },
  {
   "cell_type": "code",
   "execution_count": 8,
   "metadata": {
    "collapsed": false
   },
   "outputs": [],
   "source": [
    "p_ini = 10.0\n",
    "r = 1.04\n",
    "startyear = 2020\n",
    "perturbation = 1.00\n",
    "exponential_price = pd.DataFrame(columns=['year','$2005 per CO2 ton']) \n",
    "exponential_price['year'] =  [startyear+5*i for i in range(0,17)]\n",
    "exponential_price['$2005 per CO2 ton'] =  [p_ini*perturbation*np.power(r,(i*5)) for i in range(0,17)]"
   ]
  },
  {
   "cell_type": "markdown",
   "metadata": {},
   "source": [
    "One may construct another price path, say, step price. We need a value of step price and the year where step occurs. We are interested in step prices of 50, 100, and 200 dollars at year 2050 (We have looked at 400 dollars and it starts hitting corner solution). Here is an example."
   ]
  },
  {
   "cell_type": "code",
   "execution_count": 19,
   "metadata": {
    "collapsed": false
   },
   "outputs": [],
   "source": [
    "p_ini = 200.0 #50.0 200.0\n",
    "r = 1\n",
    "startyear = 2020\n",
    "stepyear = 2050\n",
    "perturbation = 1.00\n",
    "step_price = pd.DataFrame(columns=['year','$2005 per CO2 ton']) \n",
    "step_price['year'] =  [startyear+5*i for i in range(0,17)]\n",
    "step_price['$2005 per CO2 ton'] = (step_price.year>=stepyear)*p_ini*perturbation*np.power(r,(i*5))"
   ]
  },
  {
   "cell_type": "markdown",
   "metadata": {},
   "source": [
    "For EPPA, set price, namely $\\texttt{p_ini}$ in .cas file needs conversion: $\\text{set price} = \\text{\\$2005 per CO2 ton price}*0.84628/12*44/100$.\n",
    "\n",
    "For GCAM, set price is in 1990 US dollars per C ton in 'Main_User_Workspace/input/policy/carbon_tax_10_5.xml' file and it needs conversion: $\\text{set price} = \\text{\\$2005 per CO2 ton price}/12*44*(0.72262)$.\n",
    "\n",
    "For MERGE, set price, namely $\\texttt{ametax}$ in 'm7.gms' file is in 2005 dollars per CO2 ton, so we do not need any further conversion. However, to be precise we should change  $\\text{\\$2005 per CO2 ton price} = \\texttt{3.67*ametax/1.135}$ to be $\\text{\\$2005 per CO2 ton price} = \\texttt{3.67*ametax*0.88723}$ for correct precision. [In detail,  $\\text{\\$2005 per CO2 ton price} = \\texttt{3.67*ametax/1.135}$$*12/44/0.88723 \\approx \\texttt{ametax}$. (3.67 comes from 44/12 CO2-C conversion and 1.135 is likely from deflation: 1/0.88723 = 1.127) so all factors cancel out.] \n",
    "\n",
    "We can define function called 'price_path_conversion' to generate conversion for any price path:"
   ]
  },
  {
   "cell_type": "code",
   "execution_count": 10,
   "metadata": {
    "collapsed": false
   },
   "outputs": [],
   "source": [
    "def price_path_conversion(pricetable):\n",
    "    pricetable['MERGE set price'] = pricetable['$2005 per CO2 ton']*1\n",
    "    pricetable['EPPA set price'] = pricetable['$2005 per CO2 ton']*0.84628/12*44/100\n",
    "    pricetable['GCAM set price'] = pricetable['$2005 per CO2 ton']/12*44*0.72262\n",
    "    return pricetable;"
   ]
  },
  {
   "cell_type": "code",
   "execution_count": 11,
   "metadata": {
    "collapsed": false
   },
   "outputs": [],
   "source": [
    "#price_path_conversion(exponential_price)"
   ]
  },
  {
   "cell_type": "code",
   "execution_count": 20,
   "metadata": {
    "collapsed": false
   },
   "outputs": [
    {
     "data": {
      "text/html": [
       "<div style=\"max-height:1000px;max-width:1500px;overflow:auto;\">\n",
       "<table border=\"1\" class=\"dataframe\">\n",
       "  <thead>\n",
       "    <tr style=\"text-align: right;\">\n",
       "      <th></th>\n",
       "      <th>year</th>\n",
       "      <th>$2005 per CO2 ton</th>\n",
       "      <th>MERGE set price</th>\n",
       "      <th>EPPA set price</th>\n",
       "      <th>GCAM set price</th>\n",
       "    </tr>\n",
       "  </thead>\n",
       "  <tbody>\n",
       "    <tr>\n",
       "      <th>0 </th>\n",
       "      <td> 2020</td>\n",
       "      <td>   0</td>\n",
       "      <td>   0</td>\n",
       "      <td> 0.000000</td>\n",
       "      <td>   0.000000</td>\n",
       "    </tr>\n",
       "    <tr>\n",
       "      <th>1 </th>\n",
       "      <td> 2025</td>\n",
       "      <td>   0</td>\n",
       "      <td>   0</td>\n",
       "      <td> 0.000000</td>\n",
       "      <td>   0.000000</td>\n",
       "    </tr>\n",
       "    <tr>\n",
       "      <th>2 </th>\n",
       "      <td> 2030</td>\n",
       "      <td>   0</td>\n",
       "      <td>   0</td>\n",
       "      <td> 0.000000</td>\n",
       "      <td>   0.000000</td>\n",
       "    </tr>\n",
       "    <tr>\n",
       "      <th>3 </th>\n",
       "      <td> 2035</td>\n",
       "      <td>   0</td>\n",
       "      <td>   0</td>\n",
       "      <td> 0.000000</td>\n",
       "      <td>   0.000000</td>\n",
       "    </tr>\n",
       "    <tr>\n",
       "      <th>4 </th>\n",
       "      <td> 2040</td>\n",
       "      <td>   0</td>\n",
       "      <td>   0</td>\n",
       "      <td> 0.000000</td>\n",
       "      <td>   0.000000</td>\n",
       "    </tr>\n",
       "    <tr>\n",
       "      <th>5 </th>\n",
       "      <td> 2045</td>\n",
       "      <td>   0</td>\n",
       "      <td>   0</td>\n",
       "      <td> 0.000000</td>\n",
       "      <td>   0.000000</td>\n",
       "    </tr>\n",
       "    <tr>\n",
       "      <th>6 </th>\n",
       "      <td> 2050</td>\n",
       "      <td> 200</td>\n",
       "      <td> 200</td>\n",
       "      <td> 6.206053</td>\n",
       "      <td> 529.921333</td>\n",
       "    </tr>\n",
       "    <tr>\n",
       "      <th>7 </th>\n",
       "      <td> 2055</td>\n",
       "      <td> 200</td>\n",
       "      <td> 200</td>\n",
       "      <td> 6.206053</td>\n",
       "      <td> 529.921333</td>\n",
       "    </tr>\n",
       "    <tr>\n",
       "      <th>8 </th>\n",
       "      <td> 2060</td>\n",
       "      <td> 200</td>\n",
       "      <td> 200</td>\n",
       "      <td> 6.206053</td>\n",
       "      <td> 529.921333</td>\n",
       "    </tr>\n",
       "    <tr>\n",
       "      <th>9 </th>\n",
       "      <td> 2065</td>\n",
       "      <td> 200</td>\n",
       "      <td> 200</td>\n",
       "      <td> 6.206053</td>\n",
       "      <td> 529.921333</td>\n",
       "    </tr>\n",
       "    <tr>\n",
       "      <th>10</th>\n",
       "      <td> 2070</td>\n",
       "      <td> 200</td>\n",
       "      <td> 200</td>\n",
       "      <td> 6.206053</td>\n",
       "      <td> 529.921333</td>\n",
       "    </tr>\n",
       "    <tr>\n",
       "      <th>11</th>\n",
       "      <td> 2075</td>\n",
       "      <td> 200</td>\n",
       "      <td> 200</td>\n",
       "      <td> 6.206053</td>\n",
       "      <td> 529.921333</td>\n",
       "    </tr>\n",
       "    <tr>\n",
       "      <th>12</th>\n",
       "      <td> 2080</td>\n",
       "      <td> 200</td>\n",
       "      <td> 200</td>\n",
       "      <td> 6.206053</td>\n",
       "      <td> 529.921333</td>\n",
       "    </tr>\n",
       "    <tr>\n",
       "      <th>13</th>\n",
       "      <td> 2085</td>\n",
       "      <td> 200</td>\n",
       "      <td> 200</td>\n",
       "      <td> 6.206053</td>\n",
       "      <td> 529.921333</td>\n",
       "    </tr>\n",
       "    <tr>\n",
       "      <th>14</th>\n",
       "      <td> 2090</td>\n",
       "      <td> 200</td>\n",
       "      <td> 200</td>\n",
       "      <td> 6.206053</td>\n",
       "      <td> 529.921333</td>\n",
       "    </tr>\n",
       "    <tr>\n",
       "      <th>15</th>\n",
       "      <td> 2095</td>\n",
       "      <td> 200</td>\n",
       "      <td> 200</td>\n",
       "      <td> 6.206053</td>\n",
       "      <td> 529.921333</td>\n",
       "    </tr>\n",
       "    <tr>\n",
       "      <th>16</th>\n",
       "      <td> 2100</td>\n",
       "      <td> 200</td>\n",
       "      <td> 200</td>\n",
       "      <td> 6.206053</td>\n",
       "      <td> 529.921333</td>\n",
       "    </tr>\n",
       "  </tbody>\n",
       "</table>\n",
       "</div>"
      ],
      "text/plain": [
       "    year  $2005 per CO2 ton  MERGE set price  EPPA set price  GCAM set price\n",
       "0   2020                  0                0        0.000000        0.000000\n",
       "1   2025                  0                0        0.000000        0.000000\n",
       "2   2030                  0                0        0.000000        0.000000\n",
       "3   2035                  0                0        0.000000        0.000000\n",
       "4   2040                  0                0        0.000000        0.000000\n",
       "5   2045                  0                0        0.000000        0.000000\n",
       "6   2050                200              200        6.206053      529.921333\n",
       "7   2055                200              200        6.206053      529.921333\n",
       "8   2060                200              200        6.206053      529.921333\n",
       "9   2065                200              200        6.206053      529.921333\n",
       "10  2070                200              200        6.206053      529.921333\n",
       "11  2075                200              200        6.206053      529.921333\n",
       "12  2080                200              200        6.206053      529.921333\n",
       "13  2085                200              200        6.206053      529.921333\n",
       "14  2090                200              200        6.206053      529.921333\n",
       "15  2095                200              200        6.206053      529.921333\n",
       "16  2100                200              200        6.206053      529.921333"
      ]
     },
     "execution_count": 20,
     "metadata": {},
     "output_type": "execute_result"
    }
   ],
   "source": [
    "price_path_conversion(step_price)"
   ]
  },
  {
   "cell_type": "code",
   "execution_count": 1,
   "metadata": {
    "collapsed": false
   },
   "outputs": [
    {
     "data": {
      "text/plain": [
       "450.43313305"
      ]
     },
     "execution_count": 1,
     "metadata": {},
     "output_type": "execute_result"
    }
   ],
   "source": [
    "529.921333*0.85"
   ]
  },
  {
   "cell_type": "markdown",
   "metadata": {},
   "source": [
    "### How to modify price paths in models with perturbation"
   ]
  },
  {
   "cell_type": "markdown",
   "metadata": {},
   "source": [
    "$\\underline{\\textbf{WARNING}}$ Some of modifications here is a dirty way. Don't forget to copy original file and name it, say, '[original name]_original' before doing any change.\n",
    "\n",
    "Note: we are only interested in a step price path here."
   ]
  },
  {
   "cell_type": "markdown",
   "metadata": {},
   "source": [
    "$\\underline{\\text{EPPA}}$:\n",
    "1. In price-based policy .cas file, define extra parameter called $\\texttt{perturb}$ in order to vary price path and measure elasticity. Here we use $\\texttt{perturb}$ from 0.85 to 1.15 with step size 0.05. Then assign $\\texttt{p_ini = p_ini*perturb;}$ Also, change starting year to be 2050 ($\\texttt{det_pr = 12}$). Save .cas file with name $\\texttt{test_policy_price_[step price name]_[perturb].cas}$.\n",
    "2. In $\\texttt{eppaloop2.gms}$, go to the last line assigning value to the carbon price $\\texttt{pcarblag}$. Then add the following lines:\n",
    "$\\texttt{pcarblag = 0;}$.\n",
    "$\\texttt{pcarblag\\$(ord(T)>= det_pr) = p_ini;}$. We save this file as, for example, $\\texttt{eppaloop2_for-price-based.gms}$\n",
    "3. To run multiple cases with different values of perturbation, create a batch file, for example, $\\texttt{batch_price-based.dat}$ Each scenario should run: $\\texttt{call rrun [.cas file name without .cas]}$. "
   ]
  },
  {
   "cell_type": "markdown",
   "metadata": {},
   "source": [
    "$\\underline{\\text{GCAM}}$:\n",
    "\n",
    "1. Follow an instruction of running reference case.\n",
    "\n",
    "2. Start from price-based policy .xml file in $\\texttt{/input/policy}$ folder, for example, $\\texttt{carbon_tax_25_5.xml}$. Add lines of fixed tax for individual year: $\\texttt{<fixedTax year=\"2050\">[tax-value]</fixedTax>}$. This tax value should include perturbation. Don't forget to save this new input policy file with a distinct name.\n",
    "\n",
    "3. Start from original $\\texttt{configuration.xml}$ in exe folder. Modify it as follow:\n",
    "\n",
    "    -Add policy in ScenarioComponents object as: $\\texttt{<Value name = \"policy\">../input/policy/[input-policy-name].xml</Value>}$ \n",
    "    \n",
    "    -Change scenarioName in Strings object as: $\\quad\\texttt{<Value name=\"scenarioName\">[input-policy-name]</Value>}$. This will help us find scenarios easier in Java interface.\n",
    "\n",
    "    -Change CalibrationActive in Bools object to be 0 in order to prevent calibration change.\n",
    "\n",
    "4. To run multiple cases with different values of perturbation, create a batch file, for example, $\\texttt{batch_price-based.dat}$. Each scenario should run $\\texttt{Objects-Main}$.\n"
   ]
  },
  {
   "cell_type": "markdown",
   "metadata": {},
   "source": [
    "\n",
    "$\\underline{\\text{MERGE}}$: \n",
    "1. Add extra price path as follow:\n",
    "\n",
    "    - In studies.xls, there are lexicon called $\\texttt{ametax}$ with values ametax10, ametax30, ametax50 in sheet named Lexicon. Add extra values 'step050','step100', and 'step200' to represent step price path. \n",
    "    \n",
    "    - In m7.gms, there is a table call ametax. Add an extra line to represent a price path for each path name with MERGE set price. Note that GAMS is sensitive to tabs and spaces, so make sure all items are properly aligned.\n",
    "\n",
    "2. Add perturbation as follow:\n",
    "    -In m7.gms define extra parameter called $\\texttt{perturb}$ in order to vary price path and measure elasticity. perturb ranges from 0.85 to 1.15 with step size 0.05. \n",
    "    \n",
    "    -In studies.xls, go to Lexicon sheet and add new lexicon $\\texttt{perturb}$ with relevant information, then go to aero sheet and add extra column for $\\texttt{perturb}$ lexicon.\n",
    "    \n",
    "    - In m7.gms add extra line after assigning ghgtax to perturb the tax as follow:\n",
    "$\\texttt{\\$if set perturb ghgtax(\"co2\",tp,rg,sw) = ghgtax(\"co2\",tp,rg,sw)* perturb(\"%perturb%\");}$\n",
    "\n",
    "4. To run multiple cases with different values of perturbation, add multiple lines in studies.xls modifying from the baseline case. \n"
   ]
  },
  {
   "cell_type": "markdown",
   "metadata": {},
   "source": [
    "## Carbon accounting issue: fossil fuel only (FOS), fossil and industry (FI), and total (TOT)"
   ]
  },
  {
   "cell_type": "markdown",
   "metadata": {},
   "source": [
    "Here different IAMs may account carbon in tax calculation differently.\n",
    "\n",
    "In MERGE by default, all carbon (TOT) is accounted in tax calculation even though it is divided into $\\texttt{CCEM}$ and $\\texttt{CLEV}$. After code modification, we can target in all three levels. However, since land-use (biomass) emission is relatively small in MERGE. The scenario TOT and FI should be equivalent. Here we will run accounting for FOS and TOT only to be consistent with other models.\n",
    "\n",
    "In EPPA by default, only fossil fuel carbon (FOS) is accounted in tax calculation. One may change how carbon is targeted by using $\\texttt{cflag}$ as appeared in .cas file. If the flag is 1, it will take account of all carbon (TOT). Here we will run both accounting scenarios.\n",
    "\n",
    "In GCAM by default, carbon by subsectors are used is accounted in tax calculation. This is not equivalent to FOS, FI or TOT. Fortulately, one can target tax calculation to each subsector individually. In addition, one can include carbon emission of land use change outside subsectors using appropriate policy file. See more detail below."
   ]
  },
  {
   "cell_type": "markdown",
   "metadata": {},
   "source": [
    "### How to enforce different CO2 emissions accounting procedures (quantity-based policy included as well)"
   ]
  },
  {
   "cell_type": "markdown",
   "metadata": {},
   "source": [
    "$\\underline{\\textbf{WARNING}}$ Some of modifications here is a dirty way. Don't forget to copy original file and name it, say, '[original name]_original' before doing any change."
   ]
  },
  {
   "cell_type": "markdown",
   "metadata": {},
   "source": [
    "$\\underline{\\text{EPPA}}$:\n",
    "\n",
    "As addressed earlier, in EPPA, there are built-in options to choose different CO2 emissions accountings by changing a single parameter in a supplementary file. In $\\texttt{eppa4-1/parameters/eppacoef.gms}$, there is a parameter called $\\texttt{cflag(r)}$. One may assign it to be zero for CO2 emissions from fossil fuels (default) and one for total CO2 emissions. \n",
    "\n",
    "Extra note: Previously, Henry from EPPA team said that there is no total carbon emission counterpart in tax calculation since carbon emission from land-use is calculated as an extra. However, it can be done in eppa4-1 version. \n",
    "\n",
    "$\\underline{\\text{GCAM}}$: \n",
    "\n",
    "As addressed earlier, in GCAM available options, CO2 emissions accounting procedure does not match either of two procedures we want to study. In order to include CO2 emissions from fossil fuels in account of CO2 policy, one needs to construct a new policy xml tag, for example, <ghgpolicy name=\"CO2_FOS\"> and add them after all fossil fuel technologies. However, there are more than 10,000 possible places to check and add. One can do a shortcut to add tags as follow:\n",
    "\n",
    "i) Search for <ghgpolicy name=\"CO2\"> which originally tags all technologies and replace with <ghgpolicy name=\"CO2\"><ghgpolicy name=\"CO2_FOS\"> in Main_User_Workspace/input/gcam-data-system/xlm folder. \n",
    "\n",
    "ii) Search for lines relevant to cement technologies and remove <ghgpolicy name=\"CO2_FOS\"> tags.This is relatively easy tasks since there are only two input files related to cement production, namely cement.xml and cement_incelas_gcam3.xml\n",
    "\n",
    "iii) We do not need to remove <ghgpolicy name=\"CO2_FOS\"> tags for bio-related emission as GCAM assumes net zero.\n",
    "Once all tags in   Main_User_Workspace/input/gcam-data-system/xlm folder, we can evoke this fossil fuel accounting by replacing <ghgpolicy name=\"CO2\"> tags with <ghgpolicy name=\"CO2_FOS\"> tags in policy xml files in   Main_User_Workspace/input/policy folder. Then one can run the model as usual.\n",
    "\n",
    "In order include total CO2 emissions in account of CO2 policy, there is no need to construct a new policy xml tag. However, for price-based policy, one needs to add a call to extra policy file by adding a line <Value name = \"policy\">../input/policy/global_uct.xml</Value> in <ScenarioComponents> of the file Main_User_Workspace/exe/configuration.xml. For quantity-based policy one needs to add a call to another extra policy file by adding a line  <Value name = \"policy\">../input/policy/global_uct_in_constraint.xml</Value> at the same location.\n",
    "\n",
    "$\\underline{\\text{MERGE}}$: \n",
    "\n",
    "As addressed earlier, in MERGE available options, there is no option to account CO2 emissions from fossil fuels. We need to modify the main file Merge7/m7.gms to enforce CO2 emissions from fossils in accounting as follow: \n",
    "\n",
    "In a price-based policy, in order to include CO2 emissions from fossil fuels in account of CO2 policy, one needs to go to tax calculation equation, remove two terms that contributes to tax from total CO2 emissions (CLEV and CCEM), and replace it with a tax term for CO2 emissions from fossil fuels:  ghgtax(\"co2\",tp,rg,sw)*CFOS(tp,rg,sw)\n",
    "\n",
    "In a quantity-based policy, in order to include CO2 emissions from fossil fuels, one need to go to exogenous constraint on carbon emission (clevbd) and replace variables for  total CO2 emissions with variables for CO2 emissions from fossil fuels CFOS. \n"
   ]
  }
 ],
 "metadata": {
  "kernelspec": {
   "display_name": "Python 2",
   "language": "python",
   "name": "python2"
  },
  "language_info": {
   "codemirror_mode": {
    "name": "ipython",
    "version": 2
   },
   "file_extension": ".py",
   "mimetype": "text/x-python",
   "name": "python",
   "nbconvert_exporter": "python",
   "pygments_lexer": "ipython2",
   "version": "2.7.8"
  }
 },
 "nbformat": 4,
 "nbformat_minor": 0
}
