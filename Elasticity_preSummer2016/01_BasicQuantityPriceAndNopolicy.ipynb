{
 "cells": [
  {
   "cell_type": "code",
   "execution_count": 1,
   "metadata": {
    "collapsed": false
   },
   "outputs": [],
   "source": [
    "import pandas as pd\n",
    "import pandas.io.excel\n",
    "import numpy as np\n",
    "import matplotlib.pyplot as plt\n",
    "import datetime\n",
    "import pytz\n",
    "import os\n",
    "import patsy #for spline regression\n",
    "import scipy #for non-negative least square \n",
    "import scipy as sp \n",
    "from scipy import stats\n",
    "from scipy.optimize import nnls\n",
    "from numpy.linalg import inv #for matrix and statistics\n",
    "import scipy as sp\n",
    "import math\n",
    "import statsmodels.api as sm\n",
    "%matplotlib inline"
   ]
  },
  {
   "cell_type": "code",
   "execution_count": 2,
   "metadata": {
    "collapsed": false
   },
   "outputs": [],
   "source": [
    "mainDir = 'C:/Users/Admin/Documents/xxx/Profession/EnergyProject/EMF/CarbonElasticity'"
   ]
  },
  {
   "cell_type": "markdown",
   "metadata": {},
   "source": [
    "Here we use no policy as an example to measure price and quantity."
   ]
  },
  {
   "cell_type": "code",
   "execution_count": 3,
   "metadata": {
    "collapsed": false
   },
   "outputs": [],
   "source": [
    "ScenarioName = 'nopolicy'"
   ]
  },
  {
   "cell_type": "markdown",
   "metadata": {},
   "source": [
    "Our main goal here is to define measurement of quantity and price with consistency. We also want to measure carbon emission in no policy case as well. Hence, we will go over quantity measurement first. Then we will consider no policy case (since there is no price associated with no policy). Finally, we will define price measurment. "
   ]
  },
  {
   "cell_type": "markdown",
   "metadata": {},
   "source": [
    "# Quantity measurement"
   ]
  },
  {
   "cell_type": "markdown",
   "metadata": {},
   "source": [
    "Our main goal here is to measure quantity and price in a same unit. In general, quantity measurement can be divided into fossil fuel (oil, coal, and gas) carbon emission, industry (cement production) carbon emissiion, and land use (deforestation, biomass) carbon emission. \n",
    "\n",
    "Our aggregation of interests are (1) CO2 emissinos from fossil fuels only (FOS) (2) CO2 emissions from all sources (TOT). \n",
    "\n",
    "The common unit we decide to use is million metric tons of CO2 (MMtCO2).\n",
    "\n",
    "Note: we no longer need another aggregation: fossil fuels + cement production (FI) and US readings. So we comment those parts out."
   ]
  },
  {
   "cell_type": "markdown",
   "metadata": {},
   "source": [
    "## EPPA"
   ]
  },
  {
   "cell_type": "markdown",
   "metadata": {},
   "source": [
    "Carbon emission in EPPA can be read from $\\texttt{result/[scenario name]/v_emit_[scenario name].xls}$. In EPPA, CO2 emissions come from three sources: fossil fuels production in $\\texttt{3fos_CO2}$ sheet,  cement production (so called “energy intensive industry production”) in $\\texttt{6cem_CO2}$ sheet, and deforestation (so called “agriculture production”)  in $\\texttt{7def_CO2}$ sheet. The CO2 emissions from fossil fuels can be read from  $\\texttt{3fos_CO2}$ sheet, while total CO2 emissions can be read from $\\texttt{5tot_CO2 sheet}$, which is summarized by EPPA.\n",
    "\n",
    "Note that the output unit in EPPA is million ton of CO2. Since the standard unit in this paper is also million ton of CO2, there is no conversion needed."
   ]
  },
  {
   "cell_type": "markdown",
   "metadata": {},
   "source": [
    "Technical note:\n",
    "\n",
    "To make Python notebook work, that is, to read fossil fuel carbon emission $\\texttt{CFOS}$, fossil fuel plus industry carbon emission $\\texttt{CFI}$ and total carbon emission $\\texttt{CTOT}$ directly and properly, one need to move the original output files to $\\texttt{rawresult/EPPA}$ and name them properly.\n",
    "\n",
    "In EPPA documentation, CO2 sources come from 1) coal, oil, and gas combustion 2) cement production 3) deforestation, biomass burning. Note that unit for tot_co2, fos_co2, and fi_co2 is CO2 ton, while unit for ind_co2 (cement production) and def_co2 (deforestation) is C ton."
   ]
  },
  {
   "cell_type": "code",
   "execution_count": 6,
   "metadata": {
    "collapsed": false
   },
   "outputs": [],
   "source": [
    "filename = 'y_emit_' + ScenarioName + '.xls'\n",
    "CTOT = pandas.io.excel.read_excel(mainDir + '/rawresult/' + 'EPPA' + '/' + ScenarioName +'/' + filename, sheetname=\"5tot_co2\")\n",
    "CTOT = pd.DataFrame(CTOT.stack()).reset_index()\n",
    "CTOT.columns = ['region','year','level']\n",
    "CTOT['level'] = CTOT['level'] #unit conversion to million ton of CO2 (MMtCO2)\n",
    "\n",
    "#CFI = pandas.io.excel.read_excel(mainDir + '/rawresult/' + 'EPPA' + '/'+ ScenarioName +'/'  + filename, sheetname=\"4fi_co2\")\n",
    "#CFI = pd.DataFrame(CFI.stack()).reset_index()\n",
    "#CFI.columns = ['region','year','level']\n",
    "#CFI['level'] = CFI['level'] #unit conversion to million ton of CO2 (MMtCO2)\n",
    "\n",
    "CFOS = pandas.io.excel.read_excel(mainDir + '/rawresult/' + 'EPPA' + '/'+ ScenarioName +'/'  + filename, sheetname=\"3fos_co2\")\n",
    "CFOS = pd.DataFrame(CFOS.stack()).reset_index()\n",
    "CFOS.columns = ['region','year','level']\n",
    "CFOS['level'] = CFOS['level'] #unit conversion to million ton of CO2 (MMtCO2)"
   ]
  },
  {
   "cell_type": "code",
   "execution_count": 7,
   "metadata": {
    "collapsed": false
   },
   "outputs": [],
   "source": [
    "#query for USA and sum for global.\n",
    "#qUS_fos_EPPA = CFOS[CFOS.region=='USA'][['year','level']]\n",
    "qglobal_fos_EPPA = CFOS[['year','level']].groupby(['year'])['level'].agg({'level' : lambda x: np.sum(x)}).reset_index()\n",
    "#qUS_fi_EPPA = CFI[CFI.region=='USA'][['year','level']]\n",
    "#qglobal_fi_EPPA = CFI[['year','level']].groupby(['year'])['level'].agg({'level' : lambda x: np.sum(x)}).reset_index()\n",
    "#qUS_tot_EPPA = CTOT[CTOT.region=='USA'][['year','level']]\n",
    "qglobal_tot_EPPA = CTOT[['year','level']].groupby(['year'])['level'].agg({'level' : lambda x: np.sum(x)}).reset_index()"
   ]
  },
  {
   "cell_type": "markdown",
   "metadata": {},
   "source": [
    "## GCAM"
   ]
  },
  {
   "cell_type": "markdown",
   "metadata": {},
   "source": [
    "Carbon emission in GCAM can be read from $\\texttt{Main_User_Workspace/output/database.dbxml}$ via JAVA query interface called ModelInterface/Modelnterface.jar. There are two sources of carbon emission: land use change (Query: Land Use > Land Use Change Emission Future) and technologies (Query: CO2 > CO2 emissions by subsector). There are 63 subsectors under carbon emission by technologies, including fossil fuels, biomass, and cement production. 55 of them are potentially derived from fossil fuels. Hence, the CO2 emissions from fossil fuels can be calculated by aggregating CO2 emissions of those 55 subsectors, and total CO2 emissions can be calculated by aggregating CO2 emissions of all 63 subsectors and land use change CO2 emission.\n",
    "\n",
    "Note that the unit used in GCAM is million ton of carbon. Since the standard unit in this paper is million ton of CO2, we need to convert the values from GCAM by multiplying 44/12.\n"
   ]
  },
  {
   "cell_type": "markdown",
   "metadata": {},
   "source": [
    "Technical note: \n",
    "\n",
    "To make Python notebook work, we need two export data from two queries above by dragging a bar of query result from Java model interface to an excel spread sheet. Then delete the first row, and save them properly to $\\texttt{rawresult/GCAM}$ folder. \n",
    "\n",
    "Some subsectors are not clear if they are from fossil fuels or not, so we judge at best of our knowledge."
   ]
  },
  {
   "cell_type": "code",
   "execution_count": 10,
   "metadata": {
    "collapsed": false
   },
   "outputs": [],
   "source": [
    "#Define types of carbon emission in GCAM4.0. If it is not clear, assume it is fossil fuel\n",
    "FOSlist =[u'3W Rural', u'Bus', u'Compact Car', u'Domestic Aviation', u'Domestic Ship', u'Freight Rail',\n",
    " u'Heavy Bus', u'International Aviation',u'International Ship', u'Large Car',u'Large Car and SUV', u'Light Bus',\n",
    " u'Light Truck and SUV', u'Midsize Car',u'Mini Car',u'Moped',u'Motorcycle (50-250cc)',u'Motorcycle (>250cc)',\n",
    " u'Multipurpose Vehicle', u'Passenger Rail',u'Scooter',u'Subcompact Car',u'Three-Wheeler',u'Truck',u'Truck (0-1t)',\n",
    " u'Truck (0-2.7t)',u'Truck (0-2t)',u'Truck (0-3.5t)',u'Truck (0-4.5t)',u'Truck (0-6t)',u'Truck (1-6t)',u'Truck (16-32t)',\n",
    " u'Truck (2-5t)',u'Truck (2.7-4.5t)', u'Truck (3.5-16t)', u'Truck (4.5-12t)', u'Truck (4.5-15t)',\n",
    " u'Truck (5-9t)', u'Truck (6-14t)', u'Truck (6-15t)', u'Truck (6-30t)', u'Truck (9-16t)', u'Truck (>12t)', u'Truck (>14t)',\n",
    "    u'Truck (>15t)', u'Truck (>32t)', u'Van',u'coal', u'coal gasification', u'coal to liquids', u'gas', u'gas pipeline',\n",
    "    u'gas to liquids',u'unconventional oil production',u'oil refining', u'refined liquids']\n",
    "FIlist = FOSlist + [u'cement']\n",
    "TOTlist = FIlist + [u'biomass', u'biomass gasification', u'biomass liquids',\n",
    " 'land-use', u'regional biomass', u'regional biomassOil', u'regional corn for ethanol', u'regional sugar for ethanol']\n",
    "\n",
    "#Define types of carbon emission as in GCAM3.2\n",
    "#'''\n",
    "#FOSlist = [u'LDV', u'air', u'bus', u'coal', u'coal chemical', u'coal gasification', u'coal to liquids', u'domestic ship', u'gas',\\\n",
    "# u'gas chemical', u'gas pipeline', u'gas to liquids', u'international ship', u'oil', u'oil refining', u'rail', u'refined liquids',\\\n",
    "# u'road', u'unconventional oil production']\n",
    "#FIlist = FOSlist + [u'cement (conv)', u'cement_CCS']\n",
    "#TOTlist = FIlist + [u'biomass', u'biomass gasification',  u'biomass liquids', u'biomass to H2','land-use',u'regional biomass',\\\n",
    "# u'regional biomassOil', u'regional corn for ethanol', u'regional sugar for ethanol', u'regional sugarbeet for ethanol']\n",
    "# '''\n",
    "\n",
    "#Global\n",
    "#this is for land use change emission\n",
    "filename = 'global_landuse_' + ScenarioName + '.xlsx'\n",
    "table1 = pandas.io.excel.read_excel(mainDir + '/rawresult/' + 'GCAM/GCAM40_result' + '/'+ ScenarioName +'/'  + filename, sheetname=\"Sheet1\")\n",
    "table1.drop(['scenario','region','land-use-change-emission','Units',1980,1985,1995,2000],axis=1, inplace=True)\n",
    "table1['subsector'] = ['land-use']\n",
    "\n",
    "#this is for other emission\n",
    "filename = 'global_subsector_' + ScenarioName + '.xlsx'\n",
    "table2 = pandas.io.excel.read_excel(mainDir + '/rawresult/' + 'GCAM/GCAM40_result' + '/'+ ScenarioName +'/'  + filename, sheetname=\"Sheet1\")\n",
    "table2.drop(['scenario','region','sector','Units'],axis=1, inplace=True)\n",
    "\n",
    "table = pd.concat([table1,table2])\n",
    "global_table = table\n",
    "\n",
    "d =pd.DataFrame(table[table.subsector.map(lambda x: x in FOSlist)].drop(['subsector'],axis=1).sum(axis=0),columns=['level']).reset_index()\n",
    "d.columns = ['year','level']\n",
    "d.level = d.level*44/12 #unit conversion to milliton ton of CO2 (MMtCO2)\n",
    "qglobal_fos_GCAM = d\n",
    "\n",
    "#d =pd.DataFrame(table[table.subsector.map(lambda x: x in FIlist)].drop(['subsector'],axis=1).sum(axis=0),columns=['level']).reset_index()\n",
    "#d.columns = ['year','level']\n",
    "#d.level = d.level*44/12 #unit conversion to milliton ton of CO2 (MMtCO2)\n",
    "#qglobal_fi_GCAM = d\n",
    "\n",
    "d =pd.DataFrame(table[table.subsector.map(lambda x: x in TOTlist)].drop(['subsector'],axis=1).sum(axis=0),columns=['level']).reset_index()\n",
    "d.columns = ['year','level']\n",
    "d.level = d.level*44/12 #unit conversion to milliton ton of CO2 (MMtCO2)\n",
    "qglobal_tot_GCAM = d\n",
    "\n",
    "#US\n",
    "#this is for land use change emission\n",
    "#filename = 'us_landuse_' + ScenarioName + '.xlsx'\n",
    "#table1 = pandas.io.excel.read_excel(mainDir + '/rawresult/' + 'GCAM/GCAM40_result' + '/'+ ScenarioName +'/'  + filename, sheetname=\"Sheet1\")\n",
    "#table1.drop(['scenario','region','land-use-change-emission','Units',1980,1985,1995,2000],axis=1, inplace=True)\n",
    "#table1['subsector'] = ['land-use']\n",
    "\n",
    "#this is for other emission\n",
    "#filename = 'us_subsector_' + ScenarioName + '.xlsx'\n",
    "#table2 = pandas.io.excel.read_excel(mainDir + '/rawresult/' + 'GCAM/GCAM40_result' + '/'+ ScenarioName +'/'  + filename, sheetname=\"Sheet1\")\n",
    "#table2.drop(['scenario','region','sector','Units'],axis=1, inplace=True)\n",
    "\n",
    "#table = pd.concat([table1,table2])\n",
    "\n",
    "#d =pd.DataFrame(table[table.subsector.map(lambda x: x in FOSlist)].drop(['subsector'],axis=1).sum(axis=0),columns=['level']).reset_index()\n",
    "#d.columns = ['year','level']\n",
    "#d.level = d.level*44/12 #unit conversion to milliton ton of CO2 (MMtCO2)\n",
    "#qUS_fos_GCAM = d\n",
    "\n",
    "#d =pd.DataFrame(table[table.subsector.map(lambda x: x in FIlist)].drop(['subsector'],axis=1).sum(axis=0),columns=['level']).reset_index()\n",
    "#d.columns = ['year','level']\n",
    "#d.level = d.level*44/12 #unit conversion to milliton ton of CO2 (MMtCO2)\n",
    "#qUS_fi_GCAM = d\n",
    "\n",
    "#d =pd.DataFrame(table[table.subsector.map(lambda x: x in TOTlist)].drop(['subsector'],axis=1).sum(axis=0),columns=['level']).reset_index()\n",
    "#d.columns = ['year','level']\n",
    "#d.level = d.level*44/12 #unit conversion to milliton ton of CO2 (MMtCO2)\n",
    "#qUS_tot_GCAM = d"
   ]
  },
  {
   "cell_type": "code",
   "execution_count": 11,
   "metadata": {
    "collapsed": false
   },
   "outputs": [
    {
     "data": {
      "text/plain": [
       "[56, 57, 65]"
      ]
     },
     "execution_count": 11,
     "metadata": {},
     "output_type": "execute_result"
    }
   ],
   "source": [
    "[len(FOSlist), len(FIlist), len(TOTlist)]"
   ]
  },
  {
   "cell_type": "markdown",
   "metadata": {},
   "source": [
    "## MERGE"
   ]
  },
  {
   "cell_type": "markdown",
   "metadata": {},
   "source": [
    "Carbon emission in MERGE can be read from $\\texttt{Merge7/output/[scenario name]_out.gdx}$. In MERGE, variable $\\texttt{CLEV}$ contains energy-related carbon emissions which are from both fossil fuels and biomass. On the other hand, $\\texttt{CCEM}$ contains non-energy-related carbon emissions which are only from cement production. In MERGE main code $\\texttt{Merge7/m7.gms}$, we define a new variable $\\texttt{CFOS}$ to represent CO2 emissions from fossil fuels and a new equation $\\texttt{cfosdef}$ to assign CO2 emissions from various sources similar to $\\text{CLEV}$ excluding non fossil fuels terms. The total CO2 emissions can be calculated by summing $\\texttt{CLEV}$ and $\\texttt{CCEM}$.\n",
    "\n",
    "Note that the unit used in MERGE is billion ton of carbon. Since the standard unit in this paper is million ton of CO2, we need to convert the values from GCAM by multiplying 1000*44/12.\n"
   ]
  },
  {
   "cell_type": "markdown",
   "metadata": {},
   "source": [
    "Technical note: \n",
    "\n",
    "See code modification in modified m7.gms\n",
    "\n",
    "To make Python notebook work, one need to save each variable in xlsx file, name them properly and move to $\\texttt{rawresult/MERGE}$ folder."
   ]
  },
  {
   "cell_type": "code",
   "execution_count": 4,
   "metadata": {
    "collapsed": false
   },
   "outputs": [],
   "source": [
    "#read CLEV\n",
    "filename = 'CLEV_' + ScenarioName + '.xlsx'\n",
    "CLEV = pandas.io.excel.read_excel(mainDir + '/rawresult/' + 'MERGE' + '/' + ScenarioName +'/' + filename, sheetname=\"Sheet2\")\n",
    "CLEV.reset_index(inplace = True)\n",
    "CLEV = CLEV.rename(columns = {'level_0':'year'})\n",
    "CLEV = CLEV.rename(columns = {'level_1':'region'})\n",
    "CLEV['Level'] = CLEV['Level']*1000*44/12 #unit conversion to milliton ton of CO2 (MMtCO2)\n",
    "\n",
    "#read CCEM\n",
    "filename = 'CCEM_' + ScenarioName + '.xlsx'\n",
    "CCEM = pandas.io.excel.read_excel(mainDir + '/rawresult/' + 'MERGE' + '/' + ScenarioName +'/' + filename, sheetname=\"Sheet2\")\n",
    "CCEM.reset_index(inplace = True)\n",
    "CCEM = CCEM.rename(columns = {'level_0':'year'})\n",
    "CCEM = CCEM.rename(columns = {'level_1':'region'})\n",
    "CCEM['Level'] = CCEM['Level']*1000*44/12 #unit conversion to milliton ton of CO2 (MMtCO2)\n",
    "\n",
    "#read CFOS\n",
    "filename = 'CFOS_' + ScenarioName + '.xlsx'\n",
    "CFOS = pandas.io.excel.read_excel(mainDir + '/rawresult/' + 'MERGE' + '/' + ScenarioName +'/' + filename, sheetname=\"Sheet2\")\n",
    "CFOS.reset_index(inplace = True)\n",
    "CFOS = CFOS.rename(columns = {'level_0':'year'})\n",
    "CFOS = CFOS.rename(columns = {'level_1':'region'})\n",
    "CFOS['Level'] = CFOS['Level']*1000*44/12 #unit conversion to milliton ton of CO2 (MMtCO2)\n",
    "\n",
    "#CFOS is computed since 2020\n",
    "CFI = CCEM[CCEM.columns.values]\n",
    "CFI = CFI[CFI.year>=2020].reset_index(drop=True)\n",
    "CFI['Level'] = CFI['Level']+CFOS['Level']\n",
    "\n",
    "#compute CTOT\n",
    "CTOT = CLEV[CLEV.columns.values]\n",
    "CTOT['Level'] = CCEM['Level']+CLEV['Level']\n",
    "\n",
    "#rename CFOS, CFI, and CTOT\n",
    "CFOS=CFOS.rename(columns = {'Level':'level'})\n",
    "CFI=CFI.rename(columns = {'Level':'level'})\n",
    "CTOT=CTOT.rename(columns = {'Level':'level'})"
   ]
  },
  {
   "cell_type": "code",
   "execution_count": 5,
   "metadata": {
    "collapsed": false
   },
   "outputs": [],
   "source": [
    "#query for USA and sum for global.\n",
    "#qUS_fos_MERGE = CFOS[CFOS.region=='USA'][['year','level']]\n",
    "qglobal_fos_MERGE = CFOS[['year','level']].groupby(['year'])['level'].agg({'level' : lambda x: np.sum(x)}).reset_index()\n",
    "#qUS_fi_MERGE = CFI[CFI.region=='USA'][['year','level']]\n",
    "#qglobal_fi_MERGE = CFI[['year','level']].groupby(['year'])['level'].agg({'level' : lambda x: np.sum(x)}).reset_index()\n",
    "#qUS_tot_MERGE = CTOT[CTOT.region=='USA'][['year','level']]\n",
    "qglobal_tot_MERGE = CTOT[['year','level']].groupby(['year'])['level'].agg({'level' : lambda x: np.sum(x)}).reset_index()"
   ]
  },
  {
   "cell_type": "markdown",
   "metadata": {},
   "source": [
    "# No policy case"
   ]
  },
  {
   "cell_type": "markdown",
   "metadata": {},
   "source": [
    "Here we implicitly define no policy case and run 'nopolicy' case from each model as follow:\n",
    "\n",
    "$\\underline{\\text{MERGE}}$: Go to Merge7/studies.xls. Go to sheet 'aero' and mark solve = 1 at ‘aero_bau_bau’ and solve = -1 in all other cases. Then type ‘run aero’ in command prompt in ‘Merge7’ folder.\n",
    "\n",
    "$\\underline{\\text{EPPA}}$: Type ‘run v-ref’ in command prompt in ‘active’ folder. This corresponds to using $\\texttt{v-ref.cas}$ in active  folder and $\\texttt{eppaloop.gms}$. To run other scenarios use 'rrun [filename (don't put '.cas' in)]'. This corresponds to using $\\texttt{[filename].cas}$ in active  folder and $\\texttt{eppaloop2.gms}$.\n",
    "\n",
    "$\\underline{\\text{GCAM}}$: Add nothing. Just check if ‘configuration.xml’ in exe folder has desired input files via Notepad++. Then run by double-clicking “Objects-MI.exe”\n"
   ]
  },
  {
   "cell_type": "markdown",
   "metadata": {},
   "source": [
    "We may run quantity measurement for 'nopolicy' from each model, save data in formats and names as explained above, and get following quantity comparison."
   ]
  },
  {
   "cell_type": "code",
   "execution_count": 15,
   "metadata": {
    "collapsed": false
   },
   "outputs": [
    {
     "data": {
      "image/png": "[encoded data removed]",
      "text/plain": [
       "<matplotlib.figure.Figure at 0x18762668>"
      ]
     },
     "metadata": {},
     "output_type": "display_data"
    }
   ],
   "source": [
    "fig = plt.figure(figsize=(6,6))\n",
    "#fig = plt.figure(figsize=(6,12))\n",
    "ax1  = fig.add_subplot(111)\n",
    "#ax1  = fig.add_subplot(211)\n",
    "ax1.plot(qglobal_fos_MERGE.year,qglobal_fos_MERGE.level,color='red', linestyle = ':',label = 'fos_MERGE')\n",
    "#ax1.plot(qglobal_fi_MERGE.year,qglobal_fi_MERGE.level,color='red', linestyle = '--', label = 'fi_MERGE')\n",
    "ax1.plot(qglobal_tot_MERGE.year,qglobal_tot_MERGE.level,color='red', linestyle = '-',label = 'tot_MERGE')\n",
    "ax1.plot(qglobal_fos_EPPA.year,qglobal_fos_EPPA.level,color='green', linestyle = ':', label = 'fos_EPPA')\n",
    "#ax1.plot(qglobal_fi_EPPA.year,qglobal_fi_EPPA.level,color='green', linestyle = '--', label = 'fi_EPPA')\n",
    "ax1.plot(qglobal_tot_EPPA.year,qglobal_tot_EPPA.level,color='green', linestyle = '-', label = 'tot_EPPA')\n",
    "ax1.plot(qglobal_fos_GCAM.year,qglobal_fos_GCAM.level,color='blue', linestyle = ':', label = 'fos_GCAM')\n",
    "#ax1.plot(qglobal_fi_GCAM.year,qglobal_fi_GCAM.level,color='blue', linestyle = '--', label = 'fi_GCAM')\n",
    "ax1.plot(qglobal_tot_GCAM.year,qglobal_tot_GCAM.level,color='blue', linestyle = '-', label = 'tot_GCAM')\n",
    "ax1.set_xlabel('Year')\n",
    "ax1.set_ylabel('CO2 emission (MMtCO2)')\n",
    "ax1.set_ylim(0,120000)\n",
    "#ax1.set_title('No policy: global')\n",
    "\n",
    "ax1.legend()\n",
    "from collections import OrderedDict\n",
    "handles, labels = plt.gca().get_legend_handles_labels()\n",
    "by_label = OrderedDict(zip(labels, handles))\n",
    "ax1.legend(by_label.values(), by_label.keys(), loc='center left', bbox_to_anchor=(1, 0.5),title='label')\n",
    "\n",
    "fig.show()\n"
   ]
  },
  {
   "cell_type": "code",
   "execution_count": 1,
   "metadata": {
    "collapsed": false,
    "scrolled": true
   },
   "outputs": [],
   "source": [
    "#fig = plt.figure(figsize=(6,6))\n",
    "#fig = plt.figure(figsize=(6,12))\n",
    "#ax1  = fig.add_subplot(111)\n",
    "#ax1  = fig.add_subplot(212)\n",
    "#ax1.plot(qUS_fos_MERGE.year,qUS_fos_MERGE.level,color='red', linestyle = ':',label = 'fos_MERGE')\n",
    "#ax1.plot(qUS_fi_MERGE.year,qUS_fi_MERGE.level,color='red', linestyle = '--', label = 'fi_MERGE')\n",
    "#ax1.plot(qUS_tot_MERGE.year,qUS_tot_MERGE.level,color='red', linestyle = '-',label = 'tot_MERGE')\n",
    "#ax1.plot(qUS_fos_EPPA.year,qUS_fos_EPPA.level,color='green', linestyle = ':', label = 'fos_EPPA')\n",
    "#ax1.plot(qUS_fi_EPPA.year,qUS_fi_EPPA.level,color='green', linestyle = '--', label = 'fi_EPPA')\n",
    "#ax1.plot(qUS_tot_EPPA.year,qUS_tot_EPPA.level,color='green', linestyle = '-', label = 'tot_EPPA')\n",
    "#ax1.plot(qUS_fos_GCAM.year,qUS_fos_GCAM.level,color='blue', linestyle = ':', label = 'fos_GCAM')\n",
    "#ax1.plot(qUS_fi_GCAM.year,qUS_fi_GCAM.level,color='blue', linestyle = '--', label = 'fi_GCAM')\n",
    "#ax1.plot(qUS_tot_GCAM.year,qUS_tot_GCAM.level,color='blue', linestyle = '-', label = 'tot_GCAM')\n",
    "#ax1.set_ylabel('CO2 emission (MMtCO2)')\n",
    "#ax1.set_title('No policy: US')\n",
    "#ax1.set_ylim(0,14000)\n",
    "\n",
    "#ax1.legend()\n",
    "#from collections import OrderedDict\n",
    "#handles, labels = plt.gca().get_legend_handles_labels()\n",
    "#by_label = OrderedDict(zip(labels, handles))\n",
    "#ax1.legend(by_label.values(), by_label.keys(), loc='center left', bbox_to_anchor=(1, 0.5),title='label')\n",
    "\n",
    "#fig.show()"
   ]
  },
  {
   "cell_type": "markdown",
   "metadata": {},
   "source": [
    "# Price measurement"
   ]
  },
  {
   "cell_type": "markdown",
   "metadata": {},
   "source": [
    "To match the unit of quantity (MMtCO2), price measureent should be in 2005 dollars per ton CO2. Here we use inflation rate as in Wilkerson et al. 2015.\n",
    "\n",
    "Note: there is no price measurement in no policy case."
   ]
  },
  {
   "cell_type": "markdown",
   "metadata": {},
   "source": [
    "## EPPA"
   ]
  },
  {
   "cell_type": "markdown",
   "metadata": {},
   "source": [
    "CO2 price in EPPA can be read a sheet named $\\texttt{9c_price}$ in a spreadsheet  $\\texttt{result/[scenario name]/v_res_[scenario name].xls}$. This is applicable to both price-based and policy-based policies. Note that in price-based policy, the value from the query should be equal to assigned CO2 tax.\n",
    "\n",
    "Note that the unit used in EPPA is 1997 dollars/ton of CO2. Since the standard unit in this paper is 2005 dollars/ton of CO2, we need to convert the values from EPPA by multiplying 1/0.84628, where 0.84628 is deflation factor from Wilkerson et al. 2015."
   ]
  },
  {
   "cell_type": "markdown",
   "metadata": {},
   "source": [
    "Technical detail:\n",
    "    \n",
    "To make Python notebook work, one needs to move the original output file and name them properly to $\\texttt{rawresult/EPPA}$ folder.\n",
    "\n",
    "Since EPPA allows trading by default, price should be equal for all regions."
   ]
  },
  {
   "cell_type": "code",
   "execution_count": 24,
   "metadata": {
    "collapsed": false
   },
   "outputs": [
    {
     "data": {
      "text/plain": [
       "[0]"
      ]
     },
     "execution_count": 24,
     "metadata": {},
     "output_type": "execute_result"
    }
   ],
   "source": [
    "'''\n",
    "filename = 'y_res_' + ScenarioName + '.xls'\n",
    "cbtax = pandas.io.excel.read_excel(mainDir + '/rawresult/' + 'EPPA' + '/'+ ScenarioName +'/'  + filename, sheetname=\"9c_price\")\n",
    "cbtax = pd.DataFrame(cbtax.stack()).reset_index()\n",
    "cbtax.columns = ['region','year','price']\n",
    "cbtax['price'] = cbtax['price']/0.84628\n",
    "\n",
    "p_EPPA = cbtax[(cbtax.region=='USA')][['year','price']]\n",
    "'''\n",
    "[0]"
   ]
  },
  {
   "cell_type": "markdown",
   "metadata": {},
   "source": [
    "## GCAM"
   ]
  },
  {
   "cell_type": "markdown",
   "metadata": {},
   "source": [
    "CO2 price in GCAM can be read easily from $\\texttt{Main_User_Workspace/output/database.dbxml}$ via JAVA query interface called $\\texttt{ModelInterface/Modelnterface.jar}$ with query: CO2 > CO2 prices. This is applicable to both price-based and policy-based policies. Note that in price-based policy, the value from the query should be equal to assigned CO2 tax.\n",
    "\n",
    "Note that the output unit in GCAM is 1990 dollars/ton of carbon. Since the standard unit in this paper is 2005 dollars/ton of CO2, we need to convert the values from GCAM by multiplying (12/44)/0.72262, where 0.72262 is deflation factor from Wilkerson et al. 2015.\n"
   ]
  },
  {
   "cell_type": "markdown",
   "metadata": {},
   "source": [
    "Technical note: \n",
    "\n",
    "To make Python notebook work, we need two export data from a query above by dragging a bar of query result from Java model interface to an excel spread sheet. Then delete the first row, and save them properly to $\\texttt{rawresult/GCAM}$ folder. \n",
    "\n",
    "Since GCAM allows trading by default, price should be equal for all regions. "
   ]
  },
  {
   "cell_type": "code",
   "execution_count": 2,
   "metadata": {
    "collapsed": false
   },
   "outputs": [
    {
     "data": {
      "text/plain": [
       "[0]"
      ]
     },
     "execution_count": 2,
     "metadata": {},
     "output_type": "execute_result"
    }
   ],
   "source": [
    "'''\n",
    "filename = 'co2price_' + ScenarioName + '.xlsx'\n",
    "co2price = pandas.io.excel.read_excel(mainDir + '/rawresult/' + 'GCAM' + '/' + ScenarioName +'/' + filename, sheetname=\"Sheet1\")\n",
    "\n",
    "co2price.drop(['scenario','market','Units'],axis=1,inplace=True)\n",
    "co2price.set_index('region',inplace=True)\n",
    "co2price = pd.DataFrame(co2price.stack()).reset_index()\n",
    "co2price.columns = ['region','year','price']\n",
    "co2price['price'] = co2price['price']*12/44/0.72262 #unit conversion to 2005 dollars per CO2 ton\n",
    "\n",
    "co2price[co2price.region=='Global'][['year','price']]\n",
    "'''\n",
    "[0]"
   ]
  },
  {
   "cell_type": "markdown",
   "metadata": {},
   "source": [
    "## MERGE"
   ]
  },
  {
   "cell_type": "markdown",
   "metadata": {},
   "source": [
    "CO2 price in MERGE can be read from a variable  $\\texttt{dual(pp, rg, “carbon”)}$ in  $\\texttt{Merge7/output/[scenario name]_out.gdx.}$ In price-based policy, the value from the query should be equal to assigned CO2 tax. In quantity-based policy, the value comes from finding dual variable of CO2 emissions constraint.\n",
    "\n",
    "Note that the output unit in MERGE is 1990 dollars/ton of carbon. Since the standard unit in this paper is 2005 dollars/ton of CO2, we need to convert the values from MERGE by multiplying (12/44)/0.72262, where 0.72262 is deflation factor from Wilkerson et al. 2015.\n"
   ]
  },
  {
   "cell_type": "markdown",
   "metadata": {},
   "source": [
    "Technical note: \n",
    "\n",
    "To make Python notebook work, one need to save the variable in xlsx file, name them properly and move to $\\texttt{rawresult/MERGE}$ folder.\n",
    "\n",
    "Since MERGE allows trading by default, price should be equal to all regions."
   ]
  },
  {
   "cell_type": "code",
   "execution_count": 23,
   "metadata": {
    "collapsed": false
   },
   "outputs": [
    {
     "data": {
      "text/plain": [
       "[0]"
      ]
     },
     "execution_count": 23,
     "metadata": {},
     "output_type": "execute_result"
    }
   ],
   "source": [
    "'''\n",
    "filename = 'dual_' + ScenarioName + '.xlsx'\n",
    "dual = pandas.io.excel.read_excel(mainDir + '/rawresult/' + 'MERGE' + '/' + ScenarioName +'/' + filename, sheetname=\"Sheet2\", header = None)\n",
    "dual.columns = ['year','region','type','price']\n",
    "def Conversion(x):\n",
    "    if x=='Eps':\n",
    "        x = float('NaN')\n",
    "    else:\n",
    "        x = float(x)*12/44/0.88723\n",
    "    return x;\n",
    "dual['price'] = dual['price'].map(lambda x: Conversion(x))\n",
    "\n",
    "p_MERGE = dual[(dual.region=='USA')&(dual.type=='carbon')][['year','price']]\n",
    "'''\n",
    "[0]"
   ]
  }
 ],
 "metadata": {
  "kernelspec": {
   "display_name": "Python 2",
   "language": "python",
   "name": "python2"
  },
  "language_info": {
   "codemirror_mode": {
    "name": "ipython",
    "version": 2
   },
   "file_extension": ".py",
   "mimetype": "text/x-python",
   "name": "python",
   "nbconvert_exporter": "python",
   "pygments_lexer": "ipython2",
   "version": "2.7.8"
  }
 },
 "nbformat": 4,
 "nbformat_minor": 0
}
