{
 "metadata": {
  "name": "",
  "signature": "sha256:dfe64e6fb6544e34a9088e12adce8cb280bbfde6e26a4799e4926ca0a8b8f18d"
 },
 "nbformat": 3,
 "nbformat_minor": 0,
 "worksheets": [
  {
   "cells": [
    {
     "cell_type": "code",
     "collapsed": false,
     "input": [
      "import pandas as pd\n",
      "import pandas.io.excel\n",
      "import numpy as np\n",
      "import matplotlib.pyplot as plt\n",
      "import datetime\n",
      "import pytz\n",
      "import os\n",
      "import patsy #for spline regression\n",
      "import scipy #for non-negative least square \n",
      "import scipy as sp \n",
      "from scipy import stats\n",
      "from scipy.optimize import nnls\n",
      "from numpy.linalg import inv #for matrix and statistics\n",
      "import scipy as sp\n",
      "import math\n",
      "import statsmodels.api as sm\n",
      "%matplotlib inline"
     ],
     "language": "python",
     "metadata": {},
     "outputs": [],
     "prompt_number": 139
    },
    {
     "cell_type": "code",
     "collapsed": false,
     "input": [
      "mainDir = 'C:/Users/Admin/Documents/xxx/Profession/EnergyProject/EMF/CarbonElasticity'"
     ],
     "language": "python",
     "metadata": {},
     "outputs": [],
     "prompt_number": 140
    },
    {
     "cell_type": "code",
     "collapsed": false,
     "input": [
      "ScenarioName = 'nopolicy'"
     ],
     "language": "python",
     "metadata": {},
     "outputs": [],
     "prompt_number": 141
    },
    {
     "cell_type": "markdown",
     "metadata": {},
     "source": [
      "Our main goal here is to measure quantity and price in a same unit. Quantity measurement should be million metric tons of CO2 (MMtCO2) and price measureent should be in 2005 dollars per ton CO2. Here we use inflation rate as in Wilkerson et al. 2015."
     ]
    },
    {
     "cell_type": "heading",
     "level": 1,
     "metadata": {},
     "source": [
      "MERGE"
     ]
    },
    {
     "cell_type": "heading",
     "level": 2,
     "metadata": {},
     "source": [
      "Quantity measurement"
     ]
    },
    {
     "cell_type": "markdown",
     "metadata": {},
     "source": [
      "In MERGE, we would like to read out variable $\\texttt{CLEV}$: energy-related carbon emission and $\\texttt{CCEM}$: non-energy-related carbon emission. Both variables can be extracted from $\\text{'output/[study name]_out.gdx'}$ as xlsx files. One needs to move those files and name them properly to rawresult/MERGE folder in order to process via this code. Note that the unit in raw file is billion ton of C, so we need to convert unit to million tons of CO2 (MMtCO2) by multiplying 1000*44/12."
     ]
    },
    {
     "cell_type": "code",
     "collapsed": false,
     "input": [
      "filename = 'CLEV_' + ScenarioName + '.xlsx'\n",
      "CLEV = pandas.io.excel.read_excel(mainDir + '/rawresult/' + 'MERGE' + '/' + filename, sheetname=\"Sheet2\")\n",
      "CLEV.reset_index(inplace = True)\n",
      "CLEV = CLEV.rename(columns = {'level_0':'year'})\n",
      "CLEV = CLEV.rename(columns = {'level_1':'region'})\n",
      "CLEV['Level'] = CLEV['Level']*1000*44/12 #unit conversion to milliton ton of CO2 (MMtCO2)\n",
      "\n",
      "filename = 'CCEM_' + ScenarioName + '.xlsx'\n",
      "CCEM = pandas.io.excel.read_excel(mainDir + '/rawresult/' + 'MERGE' + '/' + filename, sheetname=\"Sheet2\")\n",
      "CCEM.reset_index(inplace = True)\n",
      "CCEM = CCEM.rename(columns = {'level_0':'year'})\n",
      "CCEM = CCEM.rename(columns = {'level_1':'region'})\n",
      "CCEM['Level'] = CCEM['Level']*1000*44/12 #unit conversion to milliton ton of CO2 (MMtCO2)\n",
      "\n",
      "CTOT = CLEV[CLEV.columns.values]\n",
      "CTOT['Level'] = CCEM['Level']+CLEV['Level']"
     ],
     "language": "python",
     "metadata": {},
     "outputs": [],
     "prompt_number": 148
    },
    {
     "cell_type": "code",
     "collapsed": false,
     "input": [
      "#query for USA and sum for global. Can do similar thing for CTOT\n",
      "q_MERGE_US = CTOT[CTOT.region=='USA'][['year','Level']].rename(columns = {'Level':'level'})\n",
      "q_MERGE_global = CTOT[['year','Level']].groupby(['year'])['Level'].agg({'level' : lambda x: np.sum(x)}).reset_index()"
     ],
     "language": "python",
     "metadata": {},
     "outputs": [],
     "prompt_number": 143
    },
    {
     "cell_type": "heading",
     "level": 2,
     "metadata": {},
     "source": [
      "Price measurement"
     ]
    },
    {
     "cell_type": "markdown",
     "metadata": {},
     "source": [
      "In MERGE, we would like to read out variable $\\texttt{dual(\"carbon\")}$: dual variable representing carbon price. It can be extracted from 'output/[study name]_out.gdx' as csv files. One needs to move those files and name them properly to rawresult/MERGE folder in order to process via this code. The price here is in 1990 US dollars per C ton. Since we allow trading (MERGE does this by default), price should be equal for all regions. Note that the unit of price in raw file is 2000 dollars per ton C, so we need to convert unit to 2005 US dollars per CO2 ton by multiplying with (12/44)/(0.88723) (deflation number comes from Wilkerson et al. 2015). For price-based policy, $\\texttt{ametax}$ is tax in 2005 US dollars per CO2 ton in m7.gms file and it relates to this measurement after conversion by equation:  $\\text{Measurement} = \\texttt{3.67*ametax/1.135}$$*12/44/0.88723 \\approx \\texttt{ametax}$. (3.67 comes from 44/12 CO2-C conversion and 1.135 is likely from deflation: 1/0.88723 = 1.127). "
     ]
    },
    {
     "cell_type": "code",
     "collapsed": false,
     "input": [
      "filename = 'dual_' + ScenarioName + '.xlsx'\n",
      "dual = pandas.io.excel.read_excel(mainDir + '/rawresult/' + 'MERGE' + '/' + filename, sheetname=\"Sheet2\", header = None)\n",
      "dual.columns = ['year','region','type','price']\n",
      "def Conversion(x):\n",
      "    if x=='Eps':\n",
      "        x = float('NaN')\n",
      "    else:\n",
      "        x = float(x)/12*44/0.88723\n",
      "    return x;\n",
      "dual['price'] = dual['price'].map(lambda x: Conversion(x))"
     ],
     "language": "python",
     "metadata": {},
     "outputs": [],
     "prompt_number": 144
    },
    {
     "cell_type": "code",
     "collapsed": false,
     "input": [
      "dual[(dual.region=='USA')&(dual.type=='carbon')][['year','price']]"
     ],
     "language": "python",
     "metadata": {},
     "outputs": []
    },
    {
     "cell_type": "heading",
     "level": 1,
     "metadata": {},
     "source": [
      "EPPA"
     ]
    },
    {
     "cell_type": "heading",
     "level": 2,
     "metadata": {},
     "source": [
      "Quantity measurement"
     ]
    },
    {
     "cell_type": "markdown",
     "metadata": {},
     "source": [
      "In EPPA, we may need to read either total carbon emission $\\texttt{tco2}$ or fossil-based total carbon emission $\\texttt{fco2}$. Both variables can be read from $\\text{'result/*/y_emit_*.xls'}$. One needs to move those files and name them properly to rawresult/EPPA folder in order to process via this code. The unit of carbon emission in raw file is in million tons of CO2 (MMtCO2), so there is no further conversion."
     ]
    },
    {
     "cell_type": "code",
     "collapsed": false,
     "input": [
      "filename = 'y_emit_' + ScenarioName + '.xls'\n",
      "tco2 = pandas.io.excel.read_excel(mainDir + '/rawresult/' + 'EPPA' + '/' + filename, sheetname=\"5tot_co2\")\n",
      "tco2 = pd.DataFrame(tco2.stack()).reset_index()\n",
      "tco2.columns = ['region','year','level']\n",
      "tco2['level'] = tco2['level'] #unit conversion to million ton of CO2 (MMtCO2)\n",
      "\n",
      "fco2 = pandas.io.excel.read_excel(mainDir + '/rawresult/' + 'EPPA' + '/' + filename, sheetname=\"3fos_co2\")\n",
      "fco2 = pd.DataFrame(fco2.stack()).reset_index()\n",
      "fco2.columns = ['region','year','level']\n",
      "fco2['level'] = fco2['level'] #unit conversion to million ton of CO2 (MMtCO2)"
     ],
     "language": "python",
     "metadata": {},
     "outputs": []
    },
    {
     "cell_type": "code",
     "collapsed": false,
     "input": [
      "#query for USA and sum for global. Can do similar thing for CCEM\n",
      "q_EPPA_US = tco2[tco2.region=='USA'][['year','level']]\n",
      "q_EPPA_global = tco2[['year','level']].groupby(['year'])['level'].agg({'level' : lambda x: np.sum(x)}).reset_index()"
     ],
     "language": "python",
     "metadata": {},
     "outputs": []
    },
    {
     "cell_type": "heading",
     "level": 2,
     "metadata": {},
     "source": [
      "Price measurement"
     ]
    },
    {
     "cell_type": "markdown",
     "metadata": {},
     "source": [
      "In EPPA, we would like to read out variable $\\texttt{cbtax}$: variable representing carbon price. It can be extracted from read from $\\text{'result/*/y_res_*.xls'}$. One needs to move the file and name them properly to rawresult/EPPA folder in order to process via this code. The unit of price in raw file is 1997 US dollars per CO2 ton, so we need to convert unit to 2005 US dollars per CO2 ton by multiplying with 1/(0.84628) (deflation number comes from Wilkerson et al. 2015). Since we allow trading (EPPA does this by default), price should be equal for all regions. For price-based policy, price is set in 1997 US dollars per CO2 ton in .cas file and it relates to this measurement after conversion by equation:  $\\text{Measurement} = \\text{set price}/0.84628$."
     ]
    },
    {
     "cell_type": "code",
     "collapsed": false,
     "input": [
      "filename = 'y_res_' + ScenarioName + '.xls'\n",
      "cbtax = pandas.io.excel.read_excel(mainDir + '/rawresult/' + 'EPPA' + '/' + filename, sheetname=\"9c_price\")\n",
      "cbtax = pd.DataFrame(cbtax.stack()).reset_index()\n",
      "cbtax.columns = ['region','year','price']\n",
      "cbtax['price'] = cbtax['price']/0.84628"
     ],
     "language": "python",
     "metadata": {},
     "outputs": []
    },
    {
     "cell_type": "code",
     "collapsed": false,
     "input": [
      "cbtax[(cbtax.region=='USA')][['year','price']]"
     ],
     "language": "python",
     "metadata": {},
     "outputs": []
    },
    {
     "cell_type": "heading",
     "level": 1,
     "metadata": {},
     "source": [
      "GCAM"
     ]
    },
    {
     "cell_type": "heading",
     "level": 2,
     "metadata": {},
     "source": [
      "Quantity measurement"
     ]
    },
    {
     "cell_type": "markdown",
     "metadata": {},
     "source": [
      "In GCAM, we may need to read either total carbon emission. Currently there is no explicity way to read fossil-fuel based total carbon emission. Carbon emission can be extracted from Java model interface with query $\\text{'Global CO2 > CO2 emission by region'}$. One needs to copy the table to xlsx file (drag the bar to blank excel sheet), delete the first row, and save them properly to rawresult/EPPA folder in order to process via this code. Note that the unit of carbon emission in raw file is million tons of C, so we need to convert unit to million tons of CO2 (MMtCO2) by multiplying 44/12."
     ]
    },
    {
     "cell_type": "code",
     "collapsed": false,
     "input": [
      "filename = 'totalco2_' + ScenarioName + '.xlsx'\n",
      "totalco2 = pandas.io.excel.read_excel(mainDir + '/rawresult/' + 'GCAM' + '/' + filename, sheetname=\"Sheet1\")\n",
      "totalco2.drop(['scenario','Units'],axis=1,inplace=True)\n",
      "totalco2.set_index('region',inplace=True)\n",
      "totalco2 = pd.DataFrame(totalco2.stack()).reset_index()\n",
      "totalco2.columns = ['region','year','level']\n",
      "totalco2['level'] = totalco2['level']*44/12 #unit conversion to milliton ton of CO2 (MMtCO2)"
     ],
     "language": "python",
     "metadata": {},
     "outputs": [],
     "prompt_number": 147
    },
    {
     "cell_type": "code",
     "collapsed": false,
     "input": [
      "#query for USA and sum for global. Can do similar thing for CCEM\n",
      "q_GCAM_US = totalco2[totalco2.region=='USA'][['year','level']]\n",
      "q_GCAM_global = totalco2[['year','level']].groupby(['year'])['level'].agg({'level' : lambda x: np.sum(x)}).reset_index()"
     ],
     "language": "python",
     "metadata": {},
     "outputs": []
    },
    {
     "cell_type": "heading",
     "level": 2,
     "metadata": {},
     "source": [
      "Price measurement"
     ]
    },
    {
     "cell_type": "markdown",
     "metadata": {},
     "source": [
      "In GCAM, carbon price be extracted from Java model interface with query $\\text{'Global > CO2 > CO2 prices'}$. One needs to copy the table to xlsx file (drag the bar to blank excel sheet), delete the first row, and save them properly to rawresult/EPPA folder in order to process via this code.  Since we allow trading (GCAM does this by default), price should be equal for all regions. Note the price in raw file is in 1990 US dollars per C ton, , so we need to convert unit to 2005 US dollars per CO2 ton by multiplying with (12/44)/(0.72262) (deflation number comes from Wilkerson et al. 2015).  For price-based policy, price is set in 1990 US dollars per C ton in policy .xml file and it relates to this measurement after conversion by equation:  $\\text{Measurement} = \\text{set price}*12/44/(0.72262)$."
     ]
    },
    {
     "cell_type": "code",
     "collapsed": false,
     "input": [
      "filename = 'co2price_' + ScenarioName + '.xlsx'\n",
      "co2price = pandas.io.excel.read_excel(mainDir + '/rawresult/' + 'GCAM' + '/' + filename, sheetname=\"Sheet1\")"
     ],
     "language": "python",
     "metadata": {},
     "outputs": []
    },
    {
     "cell_type": "code",
     "collapsed": false,
     "input": [
      "co2price.drop(['scenario','market','Units'],axis=1,inplace=True)\n",
      "co2price.set_index('region',inplace=True)\n",
      "co2price = pd.DataFrame(co2price.stack()).reset_index()\n",
      "co2price.columns = ['region','year','price']\n",
      "co2price['price'] = co2price['price']*12/44/0.72262 #unit conversion to 2005 dollars per CO2 ton"
     ],
     "language": "python",
     "metadata": {},
     "outputs": []
    },
    {
     "cell_type": "code",
     "collapsed": false,
     "input": [
      "co2price[co2price.region=='Global'][['year','price']]"
     ],
     "language": "python",
     "metadata": {},
     "outputs": []
    },
    {
     "cell_type": "heading",
     "level": 1,
     "metadata": {},
     "source": [
      "No policy case"
     ]
    },
    {
     "cell_type": "markdown",
     "metadata": {},
     "source": [
      "We may run quantiy measurement for 'nopolicy' from each model and got following quantity comparison:"
     ]
    },
    {
     "cell_type": "code",
     "collapsed": false,
     "input": [
      "fig = plt.figure(figsize=(12,6))\n",
      "ax1  = fig.add_subplot(121)\n",
      "ax1.plot(q_MERGE_global.year,q_MERGE_global.level,color='red',label ='MERGE')\n",
      "ax1.plot(q_EPPA_global.year,q_EPPA_global.level,color='blue', label = 'EPPA')\n",
      "ax1.plot(q_GCAM_global.year,q_GCAM_global.level,color='green', label = 'GCAM')\n",
      "ax1.set_ylabel('CO2 emission (MMtCO2)')\n",
      "ax1.set_title('No policy: global')\n",
      "\n",
      "ax1  = fig.add_subplot(122)\n",
      "ax1.plot(q_MERGE_US.year,q_MERGE_US.level,color='red',label ='MERGE')\n",
      "ax1.plot(q_EPPA_US.year,q_EPPA_US.level,color='blue', label = 'EPPA')\n",
      "ax1.plot(q_GCAM_US.year,q_GCAM_US.level,color='green', label = 'GCAM')\n",
      "ax1.set_ylabel('CO2 emission (MMtCO2)')\n",
      "ax1.set_title('No policy: US')\n",
      "\n",
      "ax1.legend()\n",
      "from collections import OrderedDict\n",
      "handles, labels = plt.gca().get_legend_handles_labels()\n",
      "by_label = OrderedDict(zip(labels, handles))\n",
      "ax1.legend(by_label.values(), by_label.keys(), loc='center left', bbox_to_anchor=(1, 0.5),title='model')\n",
      "\n",
      "fig.show()"
     ],
     "language": "python",
     "metadata": {},
     "outputs": [
      {
       "metadata": {},
       "output_type": "display_data",
       "png": "[encoded data removed]",
       "text": [
        "<matplotlib.figure.Figure at 0x168564a8>"
       ]
      }
     ],
     "prompt_number": 146
    }
   ],
   "metadata": {}
  }
 ]
}