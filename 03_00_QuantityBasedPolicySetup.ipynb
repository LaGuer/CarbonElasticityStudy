{
 "cells": [
  {
   "cell_type": "markdown",
   "metadata": {},
   "source": [
    "# Quantity based policy setup"
   ]
  },
  {
   "cell_type": "markdown",
   "metadata": {},
   "source": [
    "## Setting quantity path"
   ]
  },
  {
   "cell_type": "markdown",
   "metadata": {},
   "source": [
    "### Define values"
   ]
  },
  {
   "cell_type": "markdown",
   "metadata": {},
   "source": [
    "Here we are interested in quantity-based policy. Note that each model has quantity-based policy examples restricting maximum carbon emission (\"cap\") in either global or regional consideration. Yet all model has default setting to trade between regions. This makes carbon emission constraint becomes practically global. Still, different models has different cap profiles and possibly what kind of carbon (fossil-fuel vs. total) is accounted. To make a fair comparison, we need to set a consistent quantity cap path and make same carbon accounting."
   ]
  },
  {
   "cell_type": "code",
   "execution_count": 1,
   "metadata": {
    "collapsed": false
   },
   "outputs": [],
   "source": [
    "import pandas as pd\n",
    "import pandas.io.excel\n",
    "import numpy as np\n",
    "import matplotlib.pyplot as plt\n",
    "import datetime\n",
    "import pytz\n",
    "import os\n",
    "import patsy #for spline regression\n",
    "import scipy #for non-negative least square \n",
    "import scipy as sp \n",
    "from scipy import stats\n",
    "from scipy.optimize import nnls\n",
    "from numpy.linalg import inv #for matrix and statistics\n",
    "import scipy as sp\n",
    "import math\n",
    "import statsmodels.api as sm\n",
    "%matplotlib inline"
   ]
  },
  {
   "cell_type": "markdown",
   "metadata": {},
   "source": [
    "First, we set consistent global carbon cap in unit million metric ton of CO2 (MMtCO2). We may start by considering carbon cap path provided by EPPA. In EPPA, there is an initialization by multiplying quantity called $\\texttt{co2_ref(\"2000\",r)}$ in million tons of C with reduction factor called $\\texttt{reduc(t)}$. Initially this generates cap for fossil fuel carbon emission for all regions and time, but we may use it as a cap all carbon emission, for example, in MERGE. Here we summarize such information as a global cap path in MMtCO2 starting from 2020 and the distribution factor for each region as follow:"
   ]
  },
  {
   "cell_type": "code",
   "execution_count": 2,
   "metadata": {
    "collapsed": false
   },
   "outputs": [],
   "source": [
    "EPPAbased_cap_list = [31068.18659,32639.29401,33343.5814,35348.9658,35573.2948,35484.98783,35211.65708,35239.58841,34702.2682,33176.07236,\\\n",
    "                 30894.95337,28637.3722,26150.97844,24596.35871,22608.3863,21203.61001,19952.4271]\n",
    "EPPAregionlist = ['USA','CAN','MEX','JPN','ANZ',\\\n",
    "                  'EUR','EET','FSU','ASI','CHN',\\\n",
    "                  'IND','IDZ','AFR','MES','LAM','ROW']\n",
    "EPPAregionfactor = [0.248842792,0.024377986,0.016295038,0.049593052,0.015196566,\\\n",
    "                    0.157608941,0.033799017,0.084971317,0.053151416,0.127656132,\\\n",
    "                    0.042218042,0.010402809,0.038865058,0.038549208,0.036780139,0.021694043] "
   ]
  },
  {
   "cell_type": "markdown",
   "metadata": {},
   "source": [
    "When we apply this to MERGE which defines carbon cap by region, we need to map this region distribution factor for GCAM as follow:"
   ]
  },
  {
   "cell_type": "code",
   "execution_count": 3,
   "metadata": {
    "collapsed": false
   },
   "outputs": [],
   "source": [
    "MERGEregionlist = ['usa','eur','japan','canz','russia','china','india','xas','row']         \n",
    "# 'usa' = 'USA', 'eur' = 'EUR'+'EET', 'japan'='JPN',\n",
    "#'canz' = 'CAN'+'ANZ', 'russia'='FSU', 'china'='CHN',\n",
    "#'india'='IND','xas'='ASI'+'IDZ'+'MES','row'='MEX'+'LAM'+'ROW'+'AFR'\n",
    "MERGEregionfactor = [0.248842792, 0.157608941+0.033799017, 0.049593052,\\\n",
    "                    0.024377986+0.015196566, 0.084971317, 0.127656132,\\\n",
    "                    0.042218042, 0.053151416+0.010402809+0.038549208, 0.016295038+0.038865058+0.036780139+0.021694043] "
   ]
  },
  {
   "cell_type": "markdown",
   "metadata": {},
   "source": [
    "Here is the cap path provided by EPPA."
   ]
  },
  {
   "cell_type": "code",
   "execution_count": 4,
   "metadata": {
    "collapsed": false
   },
   "outputs": [],
   "source": [
    "startyear = 2020\n",
    "perturbation = 1.00\n",
    "EPPAbased_cap = pd.DataFrame(columns=['year','MMtCO2']) \n",
    "EPPAbased_cap['year'] =  [startyear+5*i for i in range(0,17)]\n",
    "EPPAbased_cap['MMtCO2'] = EPPAbased_cap_list"
   ]
  },
  {
   "cell_type": "code",
   "execution_count": 5,
   "metadata": {
    "collapsed": false
   },
   "outputs": [
    {
     "data": {
      "text/html": [
       "<div style=\"max-height:1000px;max-width:1500px;overflow:auto;\">\n",
       "<table border=\"1\" class=\"dataframe\">\n",
       "  <thead>\n",
       "    <tr style=\"text-align: right;\">\n",
       "      <th></th>\n",
       "      <th>year</th>\n",
       "      <th>MMtCO2</th>\n",
       "    </tr>\n",
       "  </thead>\n",
       "  <tbody>\n",
       "    <tr>\n",
       "      <th>6</th>\n",
       "      <td> 2050</td>\n",
       "      <td> 35211.65708</td>\n",
       "    </tr>\n",
       "  </tbody>\n",
       "</table>\n",
       "</div>"
      ],
      "text/plain": [
       "   year       MMtCO2\n",
       "6  2050  35211.65708"
      ]
     },
     "execution_count": 5,
     "metadata": {},
     "output_type": "execute_result"
    }
   ],
   "source": [
    "EPPAbased_cap[EPPAbased_cap.year==2050]"
   ]
  },
  {
   "cell_type": "markdown",
   "metadata": {},
   "source": [
    "One may construct another cap path, say, step cap. We need a value of step cap and the year where step occurs. We may try step of 30000, 45000 and 60000 MMtCO2 with step at year 2050. Here is an example."
   ]
  },
  {
   "cell_type": "code",
   "execution_count": 6,
   "metadata": {
    "collapsed": false
   },
   "outputs": [],
   "source": [
    "c_ini = 10000.0 #60000.0, 50000.0, 40000.0, 30000.0\n",
    "r = 1\n",
    "startyear = 2020\n",
    "stepyear = 2050\n",
    "perturbation = 1.00\n",
    "step_cap = pd.DataFrame(columns=['year','MMtCO2']) \n",
    "step_cap['year'] =  [startyear+5*i for i in range(0,17)]\n",
    "step_cap['MMtCO2'][step_cap.year<stepyear] = float('Inf')\n",
    "step_cap['MMtCO2'][step_cap.year>=stepyear] = c_ini*perturbation*np.power(r,(i*5))"
   ]
  },
  {
   "cell_type": "code",
   "execution_count": 7,
   "metadata": {
    "collapsed": false
   },
   "outputs": [
    {
     "data": {
      "text/html": [
       "<div style=\"max-height:1000px;max-width:1500px;overflow:auto;\">\n",
       "<table border=\"1\" class=\"dataframe\">\n",
       "  <thead>\n",
       "    <tr style=\"text-align: right;\">\n",
       "      <th></th>\n",
       "      <th>year</th>\n",
       "      <th>MMtCO2</th>\n",
       "    </tr>\n",
       "  </thead>\n",
       "  <tbody>\n",
       "    <tr>\n",
       "      <th>0 </th>\n",
       "      <td> 2020</td>\n",
       "      <td>   inf</td>\n",
       "    </tr>\n",
       "    <tr>\n",
       "      <th>1 </th>\n",
       "      <td> 2025</td>\n",
       "      <td>   inf</td>\n",
       "    </tr>\n",
       "    <tr>\n",
       "      <th>2 </th>\n",
       "      <td> 2030</td>\n",
       "      <td>   inf</td>\n",
       "    </tr>\n",
       "    <tr>\n",
       "      <th>3 </th>\n",
       "      <td> 2035</td>\n",
       "      <td>   inf</td>\n",
       "    </tr>\n",
       "    <tr>\n",
       "      <th>4 </th>\n",
       "      <td> 2040</td>\n",
       "      <td>   inf</td>\n",
       "    </tr>\n",
       "    <tr>\n",
       "      <th>5 </th>\n",
       "      <td> 2045</td>\n",
       "      <td>   inf</td>\n",
       "    </tr>\n",
       "    <tr>\n",
       "      <th>6 </th>\n",
       "      <td> 2050</td>\n",
       "      <td> 10000</td>\n",
       "    </tr>\n",
       "    <tr>\n",
       "      <th>7 </th>\n",
       "      <td> 2055</td>\n",
       "      <td> 10000</td>\n",
       "    </tr>\n",
       "    <tr>\n",
       "      <th>8 </th>\n",
       "      <td> 2060</td>\n",
       "      <td> 10000</td>\n",
       "    </tr>\n",
       "    <tr>\n",
       "      <th>9 </th>\n",
       "      <td> 2065</td>\n",
       "      <td> 10000</td>\n",
       "    </tr>\n",
       "    <tr>\n",
       "      <th>10</th>\n",
       "      <td> 2070</td>\n",
       "      <td> 10000</td>\n",
       "    </tr>\n",
       "    <tr>\n",
       "      <th>11</th>\n",
       "      <td> 2075</td>\n",
       "      <td> 10000</td>\n",
       "    </tr>\n",
       "    <tr>\n",
       "      <th>12</th>\n",
       "      <td> 2080</td>\n",
       "      <td> 10000</td>\n",
       "    </tr>\n",
       "    <tr>\n",
       "      <th>13</th>\n",
       "      <td> 2085</td>\n",
       "      <td> 10000</td>\n",
       "    </tr>\n",
       "    <tr>\n",
       "      <th>14</th>\n",
       "      <td> 2090</td>\n",
       "      <td> 10000</td>\n",
       "    </tr>\n",
       "    <tr>\n",
       "      <th>15</th>\n",
       "      <td> 2095</td>\n",
       "      <td> 10000</td>\n",
       "    </tr>\n",
       "    <tr>\n",
       "      <th>16</th>\n",
       "      <td> 2100</td>\n",
       "      <td> 10000</td>\n",
       "    </tr>\n",
       "  </tbody>\n",
       "</table>\n",
       "</div>"
      ],
      "text/plain": [
       "    year MMtCO2\n",
       "0   2020    inf\n",
       "1   2025    inf\n",
       "2   2030    inf\n",
       "3   2035    inf\n",
       "4   2040    inf\n",
       "5   2045    inf\n",
       "6   2050  10000\n",
       "7   2055  10000\n",
       "8   2060  10000\n",
       "9   2065  10000\n",
       "10  2070  10000\n",
       "11  2075  10000\n",
       "12  2080  10000\n",
       "13  2085  10000\n",
       "14  2090  10000\n",
       "15  2095  10000\n",
       "16  2100  10000"
      ]
     },
     "execution_count": 7,
     "metadata": {},
     "output_type": "execute_result"
    }
   ],
   "source": [
    "step_cap"
   ]
  },
  {
   "cell_type": "markdown",
   "metadata": {},
   "source": [
    "For MERGE, set cap, namely $\\texttt{carlim}$ in 'm7.gms' has same unit as other carbon emission terms in MERGE, which is billion tons of C. So we need conversion $\\text{set cap} = \\text{MMtCO2 emission}/44*12/1000$. \n",
    "\n",
    "For EPPA, set cap, namely $\\texttt{cquota}$ in .cas file is assigned based on  $\\texttt{co2_ref(\"2000\",r)}$ in million tons of C. We will replace this parameter with our number in the same unit. Hence, we need conversion: $\\text{set cap} = \\text{MMtCO2 emission}/44*12$.\n",
    "\n",
    "For GCAM, set cap is million tons of C in 'Main_User_Workspace/input/policy/carbon_cap_450.xml' file and it needs conversion: $\\text{set cap} = \\text{MMtCO2 emission}/44*12$.\n",
    "\n",
    "We can define function called 'cap_path_conversion' to generate conversion for any cap path:"
   ]
  },
  {
   "cell_type": "code",
   "execution_count": 8,
   "metadata": {
    "collapsed": false
   },
   "outputs": [],
   "source": [
    "def cap_path_conversion(captable):\n",
    "    captable['MERGE set cap'] = captable['MMtCO2']/44*12/1000\n",
    "    captable['EPPA set cap'] = captable['MMtCO2']/44*12\n",
    "    captable['GCAM set cap'] = captable['MMtCO2']/44*12\n",
    "    return captable;"
   ]
  },
  {
   "cell_type": "code",
   "execution_count": 9,
   "metadata": {
    "collapsed": false
   },
   "outputs": [],
   "source": [
    "#cap_path_conversion(EPPAbased_cap)"
   ]
  },
  {
   "cell_type": "code",
   "execution_count": 10,
   "metadata": {
    "collapsed": false
   },
   "outputs": [
    {
     "data": {
      "text/html": [
       "<div style=\"max-height:1000px;max-width:1500px;overflow:auto;\">\n",
       "<table border=\"1\" class=\"dataframe\">\n",
       "  <thead>\n",
       "    <tr style=\"text-align: right;\">\n",
       "      <th></th>\n",
       "      <th>year</th>\n",
       "      <th>MMtCO2</th>\n",
       "      <th>MERGE set cap</th>\n",
       "      <th>EPPA set cap</th>\n",
       "      <th>GCAM set cap</th>\n",
       "    </tr>\n",
       "  </thead>\n",
       "  <tbody>\n",
       "    <tr>\n",
       "      <th>0 </th>\n",
       "      <td> 2020</td>\n",
       "      <td>   inf</td>\n",
       "      <td>      inf</td>\n",
       "      <td>      inf</td>\n",
       "      <td>      inf</td>\n",
       "    </tr>\n",
       "    <tr>\n",
       "      <th>1 </th>\n",
       "      <td> 2025</td>\n",
       "      <td>   inf</td>\n",
       "      <td>      inf</td>\n",
       "      <td>      inf</td>\n",
       "      <td>      inf</td>\n",
       "    </tr>\n",
       "    <tr>\n",
       "      <th>2 </th>\n",
       "      <td> 2030</td>\n",
       "      <td>   inf</td>\n",
       "      <td>      inf</td>\n",
       "      <td>      inf</td>\n",
       "      <td>      inf</td>\n",
       "    </tr>\n",
       "    <tr>\n",
       "      <th>3 </th>\n",
       "      <td> 2035</td>\n",
       "      <td>   inf</td>\n",
       "      <td>      inf</td>\n",
       "      <td>      inf</td>\n",
       "      <td>      inf</td>\n",
       "    </tr>\n",
       "    <tr>\n",
       "      <th>4 </th>\n",
       "      <td> 2040</td>\n",
       "      <td>   inf</td>\n",
       "      <td>      inf</td>\n",
       "      <td>      inf</td>\n",
       "      <td>      inf</td>\n",
       "    </tr>\n",
       "    <tr>\n",
       "      <th>5 </th>\n",
       "      <td> 2045</td>\n",
       "      <td>   inf</td>\n",
       "      <td>      inf</td>\n",
       "      <td>      inf</td>\n",
       "      <td>      inf</td>\n",
       "    </tr>\n",
       "    <tr>\n",
       "      <th>6 </th>\n",
       "      <td> 2050</td>\n",
       "      <td> 10000</td>\n",
       "      <td> 2.727273</td>\n",
       "      <td> 2727.273</td>\n",
       "      <td> 2727.273</td>\n",
       "    </tr>\n",
       "    <tr>\n",
       "      <th>7 </th>\n",
       "      <td> 2055</td>\n",
       "      <td> 10000</td>\n",
       "      <td> 2.727273</td>\n",
       "      <td> 2727.273</td>\n",
       "      <td> 2727.273</td>\n",
       "    </tr>\n",
       "    <tr>\n",
       "      <th>8 </th>\n",
       "      <td> 2060</td>\n",
       "      <td> 10000</td>\n",
       "      <td> 2.727273</td>\n",
       "      <td> 2727.273</td>\n",
       "      <td> 2727.273</td>\n",
       "    </tr>\n",
       "    <tr>\n",
       "      <th>9 </th>\n",
       "      <td> 2065</td>\n",
       "      <td> 10000</td>\n",
       "      <td> 2.727273</td>\n",
       "      <td> 2727.273</td>\n",
       "      <td> 2727.273</td>\n",
       "    </tr>\n",
       "    <tr>\n",
       "      <th>10</th>\n",
       "      <td> 2070</td>\n",
       "      <td> 10000</td>\n",
       "      <td> 2.727273</td>\n",
       "      <td> 2727.273</td>\n",
       "      <td> 2727.273</td>\n",
       "    </tr>\n",
       "    <tr>\n",
       "      <th>11</th>\n",
       "      <td> 2075</td>\n",
       "      <td> 10000</td>\n",
       "      <td> 2.727273</td>\n",
       "      <td> 2727.273</td>\n",
       "      <td> 2727.273</td>\n",
       "    </tr>\n",
       "    <tr>\n",
       "      <th>12</th>\n",
       "      <td> 2080</td>\n",
       "      <td> 10000</td>\n",
       "      <td> 2.727273</td>\n",
       "      <td> 2727.273</td>\n",
       "      <td> 2727.273</td>\n",
       "    </tr>\n",
       "    <tr>\n",
       "      <th>13</th>\n",
       "      <td> 2085</td>\n",
       "      <td> 10000</td>\n",
       "      <td> 2.727273</td>\n",
       "      <td> 2727.273</td>\n",
       "      <td> 2727.273</td>\n",
       "    </tr>\n",
       "    <tr>\n",
       "      <th>14</th>\n",
       "      <td> 2090</td>\n",
       "      <td> 10000</td>\n",
       "      <td> 2.727273</td>\n",
       "      <td> 2727.273</td>\n",
       "      <td> 2727.273</td>\n",
       "    </tr>\n",
       "    <tr>\n",
       "      <th>15</th>\n",
       "      <td> 2095</td>\n",
       "      <td> 10000</td>\n",
       "      <td> 2.727273</td>\n",
       "      <td> 2727.273</td>\n",
       "      <td> 2727.273</td>\n",
       "    </tr>\n",
       "    <tr>\n",
       "      <th>16</th>\n",
       "      <td> 2100</td>\n",
       "      <td> 10000</td>\n",
       "      <td> 2.727273</td>\n",
       "      <td> 2727.273</td>\n",
       "      <td> 2727.273</td>\n",
       "    </tr>\n",
       "  </tbody>\n",
       "</table>\n",
       "</div>"
      ],
      "text/plain": [
       "    year MMtCO2 MERGE set cap EPPA set cap GCAM set cap\n",
       "0   2020    inf           inf          inf          inf\n",
       "1   2025    inf           inf          inf          inf\n",
       "2   2030    inf           inf          inf          inf\n",
       "3   2035    inf           inf          inf          inf\n",
       "4   2040    inf           inf          inf          inf\n",
       "5   2045    inf           inf          inf          inf\n",
       "6   2050  10000      2.727273     2727.273     2727.273\n",
       "7   2055  10000      2.727273     2727.273     2727.273\n",
       "8   2060  10000      2.727273     2727.273     2727.273\n",
       "9   2065  10000      2.727273     2727.273     2727.273\n",
       "10  2070  10000      2.727273     2727.273     2727.273\n",
       "11  2075  10000      2.727273     2727.273     2727.273\n",
       "12  2080  10000      2.727273     2727.273     2727.273\n",
       "13  2085  10000      2.727273     2727.273     2727.273\n",
       "14  2090  10000      2.727273     2727.273     2727.273\n",
       "15  2095  10000      2.727273     2727.273     2727.273\n",
       "16  2100  10000      2.727273     2727.273     2727.273"
      ]
     },
     "execution_count": 10,
     "metadata": {},
     "output_type": "execute_result"
    }
   ],
   "source": [
    "cap_path_conversion(step_cap)"
   ]
  },
  {
   "cell_type": "code",
   "execution_count": 34,
   "metadata": {
    "collapsed": false
   },
   "outputs": [
    {
     "data": {
      "text/plain": [
       "10909.092"
      ]
     },
     "execution_count": 34,
     "metadata": {},
     "output_type": "execute_result"
    }
   ],
   "source": [
    "2727.273*4*1"
   ]
  },
  {
   "cell_type": "markdown",
   "metadata": {},
   "source": [
    "### How to modify cap paths in models with perturbation"
   ]
  },
  {
   "cell_type": "markdown",
   "metadata": {},
   "source": [
    "$\\underline{\\textbf{WARNING}}$ Some of modifications here is a dirty way. Don't forget to copy original file and name it, say, '[original name]_original' before doing any change."
   ]
  },
  {
   "cell_type": "markdown",
   "metadata": {},
   "source": [
    "$\\underline{\\text{EPPA}}$:\n",
    "1. In quantity-based policy .cas file, define extra parameter called perturb in order to vary cap path and measure elasticity Here we use perturb from 0.85 to 1.15 with step size 0.05. Next define another parameter regionfactor in order to distribute the cap to all regions. Note that the value of each region can be anything between 0 and 1 as long as the sum equals 1. Then assign the cap cquota(r,t)$(ord(t) ge 12)= regionfactor(r) * perturb * [cap-value]; after original cquota assignment. Save .cas file with name test_policy_quantity_[step cap name]_[perturb].cas\n",
    "\n",
    "2. Make sure to use original eppaloop2.gms.\n",
    "\n",
    "3. To run multiple cases with different values of perturbation, create a batch file, for example, batch_quantity-based.dat. Each line should read: call rrun [.cas file name without .cas]\n",
    "\n"
   ]
  },
  {
   "cell_type": "markdown",
   "metadata": {},
   "source": [
    "$\\underline{\\text{GCAM}}$:\n",
    "\n",
    "1. Follow an instruction of running reference case.\n",
    "\n",
    "2. Start from quantity-based policy .xml file in $\\texttt{/input/policy}$ folder, for example, $\\texttt{carbon_cap_450.xml}$. Add lines of fixed cap for individual year: $\\texttt{<constraint year=\"2050\">[cap-value]</constraint>}$. This cap value should include perturbation. Don't forget to save this new input policy file with a distinct name.\n",
    "\n",
    "3. Start from original $\\texttt{configuration.xml}$ in exe folder. Modify it as follow:\n",
    "\n",
    "    -Add policy in ScenarioComponents object as: $\\texttt{<Value name = \"policy\">../input/policy/[input-policy-name].xml</Value>}$ \n",
    "    \n",
    "    -Change scenarioName in Strings object as: $\\quad\\texttt{<Value name=\"scenarioName\">[input-policy-name]</Value>}$. This will help us find scenarios easier in Java interface.\n",
    "\n",
    "    -Change CalibrationActive in Bools object to be 0 in order to prevent calibration change.\n",
    "\n",
    "4. To run multiple cases with different values of perturbation, create a batch file, for example, $\\texttt{batch_quantity-based.dat}$. Each scenario should run $\\texttt{Objects-Main}$.\n"
   ]
  },
  {
   "cell_type": "markdown",
   "metadata": {},
   "source": [
    "\n",
    "$\\underline{\\text{MERGE}}$: \n",
    "1. Add step cap path. In m7.gms, define two parameters carlim_step for global cap and regionfactor in order to distribute the cap to all regions. Note that the value of each region can be anything between 0 and 1 as long as the sum equals one. \n",
    "\n",
    "2. Add perturbation as follow:\n",
    "\n",
    "    -In m7.gms define extra parameter called perturb in order to vary price path and measure elasticity. perturb ranges from 0.85 to 1.15 with step size 0.05. \n",
    "    \n",
    "    -In studies.xls, go to Lexicon sheet and add new lexicon perturb with relevant information, then go to aero sheet and add extra column for perturb lexicon.\n",
    "    \n",
    "    - In m7.gms add extra line after assigning carbon cap to perturb the cap as follow: $\\texttt{\\$if not set ametax and set perturb carlim(tp,rg) = carlim_step(tp)* regionfactor(rg) * perturb(\"%perturb%\");}$\n",
    "\n",
    "3. To run multiple cases with different values of perturbation, add multiple lines in studies.xls modifying from the baseline case.\n",
    "\n"
   ]
  },
  {
   "cell_type": "markdown",
   "metadata": {},
   "source": [
    "## Carbon accounting issue: fossil fuel only (FOS), fossil and industry (FI), and total (TOT)"
   ]
  },
  {
   "cell_type": "markdown",
   "metadata": {},
   "source": [
    "See detail in Notebook 02_00_PriceBasedPolicyStep"
   ]
  }
 ],
 "metadata": {
  "kernelspec": {
   "display_name": "Python 2",
   "language": "python",
   "name": "python2"
  },
  "language_info": {
   "codemirror_mode": {
    "name": "ipython",
    "version": 2
   },
   "file_extension": ".py",
   "mimetype": "text/x-python",
   "name": "python",
   "nbconvert_exporter": "python",
   "pygments_lexer": "ipython2",
   "version": "2.7.8"
  }
 },
 "nbformat": 4,
 "nbformat_minor": 0
}
